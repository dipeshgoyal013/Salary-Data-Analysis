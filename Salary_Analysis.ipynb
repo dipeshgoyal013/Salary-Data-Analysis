{
 "cells": [
  {
   "cell_type": "code",
   "execution_count": 2,
   "id": "d624e2f6",
   "metadata": {},
   "outputs": [],
   "source": [
    "import numpy as np\n",
    "import pandas as pd\n",
    "import matplotlib.pyplot as plt\n",
    "import seaborn as sns"
   ]
  },
  {
   "cell_type": "code",
   "execution_count": 3,
   "id": "d851cc39",
   "metadata": {},
   "outputs": [],
   "source": [
    "df = pd.read_csv(\"train_salary.csv\")"
   ]
  },
  {
   "cell_type": "code",
   "execution_count": 4,
   "id": "0d9443f7",
   "metadata": {},
   "outputs": [
    {
     "data": {
      "text/html": [
       "<div>\n",
       "<style scoped>\n",
       "    .dataframe tbody tr th:only-of-type {\n",
       "        vertical-align: middle;\n",
       "    }\n",
       "\n",
       "    .dataframe tbody tr th {\n",
       "        vertical-align: top;\n",
       "    }\n",
       "\n",
       "    .dataframe thead th {\n",
       "        text-align: right;\n",
       "    }\n",
       "</style>\n",
       "<table border=\"1\" class=\"dataframe\">\n",
       "  <thead>\n",
       "    <tr style=\"text-align: right;\">\n",
       "      <th></th>\n",
       "      <th>Name</th>\n",
       "      <th>JobTitle</th>\n",
       "      <th>AgencyID</th>\n",
       "      <th>Agency</th>\n",
       "      <th>HireDate</th>\n",
       "      <th>AnnualSalary</th>\n",
       "      <th>GrossPay</th>\n",
       "    </tr>\n",
       "  </thead>\n",
       "  <tbody>\n",
       "    <tr>\n",
       "      <th>0</th>\n",
       "      <td>Aaron,Keontae E</td>\n",
       "      <td>AIDE BLUE CHIP</td>\n",
       "      <td>W02200</td>\n",
       "      <td>Youth Summer</td>\n",
       "      <td>06/10/2013</td>\n",
       "      <td>$11310.00</td>\n",
       "      <td>$873.63</td>\n",
       "    </tr>\n",
       "    <tr>\n",
       "      <th>1</th>\n",
       "      <td>Aaron,Patricia G</td>\n",
       "      <td>Facilities/Office Services II</td>\n",
       "      <td>A03031</td>\n",
       "      <td>OED-Employment Dev</td>\n",
       "      <td>10/24/1979</td>\n",
       "      <td>$53428.00</td>\n",
       "      <td>$52868.38</td>\n",
       "    </tr>\n",
       "    <tr>\n",
       "      <th>2</th>\n",
       "      <td>Aaron,Petra L</td>\n",
       "      <td>ASSISTANT STATE'S ATTORNEY</td>\n",
       "      <td>A29005</td>\n",
       "      <td>States Attorneys Office</td>\n",
       "      <td>09/25/2006</td>\n",
       "      <td>$68300.00</td>\n",
       "      <td>$67439.19</td>\n",
       "    </tr>\n",
       "    <tr>\n",
       "      <th>3</th>\n",
       "      <td>Abaineh,Yohannes T</td>\n",
       "      <td>EPIDEMIOLOGIST</td>\n",
       "      <td>A65026</td>\n",
       "      <td>HLTH-Health Department</td>\n",
       "      <td>07/23/2009</td>\n",
       "      <td>$62000.00</td>\n",
       "      <td>$58654.74</td>\n",
       "    </tr>\n",
       "    <tr>\n",
       "      <th>4</th>\n",
       "      <td>Abbene,Anthony M</td>\n",
       "      <td>POLICE OFFICER TRAINEE</td>\n",
       "      <td>A99416</td>\n",
       "      <td>Police Department</td>\n",
       "      <td>07/24/2013</td>\n",
       "      <td>$43999.00</td>\n",
       "      <td>$39686.95</td>\n",
       "    </tr>\n",
       "    <tr>\n",
       "      <th>...</th>\n",
       "      <td>...</td>\n",
       "      <td>...</td>\n",
       "      <td>...</td>\n",
       "      <td>...</td>\n",
       "      <td>...</td>\n",
       "      <td>...</td>\n",
       "      <td>...</td>\n",
       "    </tr>\n",
       "    <tr>\n",
       "      <th>18976</th>\n",
       "      <td>Zotamou,Jean Marie D</td>\n",
       "      <td>AIDE BLUE CHIP</td>\n",
       "      <td>W02235</td>\n",
       "      <td>Youth Summer</td>\n",
       "      <td>05/21/2014</td>\n",
       "      <td>$11310.00</td>\n",
       "      <td>NaN</td>\n",
       "    </tr>\n",
       "    <tr>\n",
       "      <th>18977</th>\n",
       "      <td>Zotamou,Pivot D</td>\n",
       "      <td>AIDE BLUE CHIP</td>\n",
       "      <td>W02629</td>\n",
       "      <td>Youth Summer</td>\n",
       "      <td>05/21/2014</td>\n",
       "      <td>$11310.00</td>\n",
       "      <td>NaN</td>\n",
       "    </tr>\n",
       "    <tr>\n",
       "      <th>18978</th>\n",
       "      <td>Zovistoski,Zachary D</td>\n",
       "      <td>POLICE OFFICER TRAINEE</td>\n",
       "      <td>A99416</td>\n",
       "      <td>Police Department</td>\n",
       "      <td>12/17/2013</td>\n",
       "      <td>$43999.00</td>\n",
       "      <td>$21070.03</td>\n",
       "    </tr>\n",
       "    <tr>\n",
       "      <th>18979</th>\n",
       "      <td>Zubyk,Stanislav T</td>\n",
       "      <td>POLICE OFFICER</td>\n",
       "      <td>A99262</td>\n",
       "      <td>Police Department</td>\n",
       "      <td>01/23/2013</td>\n",
       "      <td>$44104.00</td>\n",
       "      <td>$48608.12</td>\n",
       "    </tr>\n",
       "    <tr>\n",
       "      <th>18980</th>\n",
       "      <td>Zukowski,Charles J</td>\n",
       "      <td>Waste Water Tech Supv I Pump</td>\n",
       "      <td>A50206</td>\n",
       "      <td>DPW-Water &amp; Waste Water</td>\n",
       "      <td>10/15/1979</td>\n",
       "      <td>$53568.00</td>\n",
       "      <td>$52164.32</td>\n",
       "    </tr>\n",
       "  </tbody>\n",
       "</table>\n",
       "<p>18981 rows × 7 columns</p>\n",
       "</div>"
      ],
      "text/plain": [
       "                       Name                       JobTitle AgencyID  \\\n",
       "0           Aaron,Keontae E                 AIDE BLUE CHIP   W02200   \n",
       "1          Aaron,Patricia G  Facilities/Office Services II   A03031   \n",
       "2             Aaron,Petra L     ASSISTANT STATE'S ATTORNEY   A29005   \n",
       "3        Abaineh,Yohannes T                 EPIDEMIOLOGIST   A65026   \n",
       "4          Abbene,Anthony M         POLICE OFFICER TRAINEE   A99416   \n",
       "...                     ...                            ...      ...   \n",
       "18976  Zotamou,Jean Marie D                 AIDE BLUE CHIP   W02235   \n",
       "18977       Zotamou,Pivot D                 AIDE BLUE CHIP   W02629   \n",
       "18978  Zovistoski,Zachary D         POLICE OFFICER TRAINEE   A99416   \n",
       "18979     Zubyk,Stanislav T                 POLICE OFFICER   A99262   \n",
       "18980    Zukowski,Charles J   Waste Water Tech Supv I Pump   A50206   \n",
       "\n",
       "                         Agency    HireDate AnnualSalary   GrossPay  \n",
       "0                Youth Summer    06/10/2013    $11310.00    $873.63  \n",
       "1           OED-Employment Dev   10/24/1979    $53428.00  $52868.38  \n",
       "2      States Attorneys Office   09/25/2006    $68300.00  $67439.19  \n",
       "3       HLTH-Health Department   07/23/2009    $62000.00  $58654.74  \n",
       "4            Police Department   07/24/2013    $43999.00  $39686.95  \n",
       "...                         ...         ...          ...        ...  \n",
       "18976            Youth Summer    05/21/2014    $11310.00        NaN  \n",
       "18977             Youth Summer   05/21/2014    $11310.00        NaN  \n",
       "18978        Police Department   12/17/2013    $43999.00  $21070.03  \n",
       "18979        Police Department   01/23/2013    $44104.00  $48608.12  \n",
       "18980  DPW-Water & Waste Water   10/15/1979    $53568.00  $52164.32  \n",
       "\n",
       "[18981 rows x 7 columns]"
      ]
     },
     "execution_count": 4,
     "metadata": {},
     "output_type": "execute_result"
    }
   ],
   "source": [
    "df"
   ]
  },
  {
   "cell_type": "code",
   "execution_count": 5,
   "id": "74052e5c",
   "metadata": {},
   "outputs": [
    {
     "name": "stdout",
     "output_type": "stream",
     "text": [
      "<class 'pandas.core.frame.DataFrame'>\n",
      "RangeIndex: 18981 entries, 0 to 18980\n",
      "Data columns (total 7 columns):\n",
      " #   Column        Non-Null Count  Dtype \n",
      "---  ------        --------------  ----- \n",
      " 0    Name         18981 non-null  object\n",
      " 1   JobTitle      18981 non-null  object\n",
      " 2   AgencyID      18981 non-null  object\n",
      " 3   Agency        18981 non-null  object\n",
      " 4   HireDate      18911 non-null  object\n",
      " 5   AnnualSalary  18981 non-null  object\n",
      " 6   GrossPay      15758 non-null  object\n",
      "dtypes: object(7)\n",
      "memory usage: 1.0+ MB\n"
     ]
    }
   ],
   "source": [
    "df.info()"
   ]
  },
  {
   "cell_type": "code",
   "execution_count": 6,
   "id": "20d59d93",
   "metadata": {},
   "outputs": [],
   "source": [
    "salary = df.copy()"
   ]
  },
  {
   "cell_type": "code",
   "execution_count": 7,
   "id": "18c4b7d0",
   "metadata": {},
   "outputs": [],
   "source": [
    "salary.columns = salary.columns.str.strip()"
   ]
  },
  {
   "cell_type": "code",
   "execution_count": 8,
   "id": "cc076377",
   "metadata": {},
   "outputs": [
    {
     "data": {
      "text/plain": [
       "Index(['Name', 'JobTitle', 'AgencyID', 'Agency', 'HireDate', 'AnnualSalary',\n",
       "       'GrossPay'],\n",
       "      dtype='object')"
      ]
     },
     "execution_count": 8,
     "metadata": {},
     "output_type": "execute_result"
    }
   ],
   "source": [
    "salary.columns"
   ]
  },
  {
   "cell_type": "markdown",
   "id": "cbf46150",
   "metadata": {},
   "source": [
    "IN this Gross Salary and AnnualSalary column are Same so we can drop this column"
   ]
  },
  {
   "cell_type": "code",
   "execution_count": 9,
   "id": "4e0ffb9f",
   "metadata": {},
   "outputs": [],
   "source": [
    "salary = salary.drop([\"GrossPay\"],axis = 1)"
   ]
  },
  {
   "cell_type": "code",
   "execution_count": 10,
   "id": "dd97adfe",
   "metadata": {},
   "outputs": [
    {
     "data": {
      "text/html": [
       "<div>\n",
       "<style scoped>\n",
       "    .dataframe tbody tr th:only-of-type {\n",
       "        vertical-align: middle;\n",
       "    }\n",
       "\n",
       "    .dataframe tbody tr th {\n",
       "        vertical-align: top;\n",
       "    }\n",
       "\n",
       "    .dataframe thead th {\n",
       "        text-align: right;\n",
       "    }\n",
       "</style>\n",
       "<table border=\"1\" class=\"dataframe\">\n",
       "  <thead>\n",
       "    <tr style=\"text-align: right;\">\n",
       "      <th></th>\n",
       "      <th>Name</th>\n",
       "      <th>JobTitle</th>\n",
       "      <th>AgencyID</th>\n",
       "      <th>Agency</th>\n",
       "      <th>HireDate</th>\n",
       "      <th>AnnualSalary</th>\n",
       "    </tr>\n",
       "  </thead>\n",
       "  <tbody>\n",
       "    <tr>\n",
       "      <th>0</th>\n",
       "      <td>Aaron,Keontae E</td>\n",
       "      <td>AIDE BLUE CHIP</td>\n",
       "      <td>W02200</td>\n",
       "      <td>Youth Summer</td>\n",
       "      <td>06/10/2013</td>\n",
       "      <td>$11310.00</td>\n",
       "    </tr>\n",
       "    <tr>\n",
       "      <th>1</th>\n",
       "      <td>Aaron,Patricia G</td>\n",
       "      <td>Facilities/Office Services II</td>\n",
       "      <td>A03031</td>\n",
       "      <td>OED-Employment Dev</td>\n",
       "      <td>10/24/1979</td>\n",
       "      <td>$53428.00</td>\n",
       "    </tr>\n",
       "    <tr>\n",
       "      <th>2</th>\n",
       "      <td>Aaron,Petra L</td>\n",
       "      <td>ASSISTANT STATE'S ATTORNEY</td>\n",
       "      <td>A29005</td>\n",
       "      <td>States Attorneys Office</td>\n",
       "      <td>09/25/2006</td>\n",
       "      <td>$68300.00</td>\n",
       "    </tr>\n",
       "    <tr>\n",
       "      <th>3</th>\n",
       "      <td>Abaineh,Yohannes T</td>\n",
       "      <td>EPIDEMIOLOGIST</td>\n",
       "      <td>A65026</td>\n",
       "      <td>HLTH-Health Department</td>\n",
       "      <td>07/23/2009</td>\n",
       "      <td>$62000.00</td>\n",
       "    </tr>\n",
       "    <tr>\n",
       "      <th>4</th>\n",
       "      <td>Abbene,Anthony M</td>\n",
       "      <td>POLICE OFFICER TRAINEE</td>\n",
       "      <td>A99416</td>\n",
       "      <td>Police Department</td>\n",
       "      <td>07/24/2013</td>\n",
       "      <td>$43999.00</td>\n",
       "    </tr>\n",
       "  </tbody>\n",
       "</table>\n",
       "</div>"
      ],
      "text/plain": [
       "                 Name                       JobTitle AgencyID  \\\n",
       "0     Aaron,Keontae E                 AIDE BLUE CHIP   W02200   \n",
       "1    Aaron,Patricia G  Facilities/Office Services II   A03031   \n",
       "2       Aaron,Petra L     ASSISTANT STATE'S ATTORNEY   A29005   \n",
       "3  Abaineh,Yohannes T                 EPIDEMIOLOGIST   A65026   \n",
       "4    Abbene,Anthony M         POLICE OFFICER TRAINEE   A99416   \n",
       "\n",
       "                     Agency    HireDate AnnualSalary  \n",
       "0            Youth Summer    06/10/2013    $11310.00  \n",
       "1       OED-Employment Dev   10/24/1979    $53428.00  \n",
       "2  States Attorneys Office   09/25/2006    $68300.00  \n",
       "3   HLTH-Health Department   07/23/2009    $62000.00  \n",
       "4        Police Department   07/24/2013    $43999.00  "
      ]
     },
     "execution_count": 10,
     "metadata": {},
     "output_type": "execute_result"
    }
   ],
   "source": [
    "salary.head()"
   ]
  },
  {
   "cell_type": "code",
   "execution_count": 11,
   "id": "f83a3e8b",
   "metadata": {},
   "outputs": [],
   "source": [
    "salary[\"HireDate\"] = salary.groupby(\"Agency\")[\"HireDate\"].ffill()"
   ]
  },
  {
   "cell_type": "code",
   "execution_count": 12,
   "id": "6534704e",
   "metadata": {},
   "outputs": [
    {
     "data": {
      "text/plain": [
       "Name            0\n",
       "JobTitle        0\n",
       "AgencyID        0\n",
       "Agency          0\n",
       "HireDate        0\n",
       "AnnualSalary    0\n",
       "dtype: int64"
      ]
     },
     "execution_count": 12,
     "metadata": {},
     "output_type": "execute_result"
    }
   ],
   "source": [
    "salary.isna().sum()"
   ]
  },
  {
   "cell_type": "code",
   "execution_count": 13,
   "id": "563cb0af",
   "metadata": {},
   "outputs": [
    {
     "data": {
      "text/html": [
       "<div>\n",
       "<style scoped>\n",
       "    .dataframe tbody tr th:only-of-type {\n",
       "        vertical-align: middle;\n",
       "    }\n",
       "\n",
       "    .dataframe tbody tr th {\n",
       "        vertical-align: top;\n",
       "    }\n",
       "\n",
       "    .dataframe thead th {\n",
       "        text-align: right;\n",
       "    }\n",
       "</style>\n",
       "<table border=\"1\" class=\"dataframe\">\n",
       "  <thead>\n",
       "    <tr style=\"text-align: right;\">\n",
       "      <th></th>\n",
       "      <th>Name</th>\n",
       "      <th>JobTitle</th>\n",
       "      <th>AgencyID</th>\n",
       "      <th>Agency</th>\n",
       "      <th>HireDate</th>\n",
       "      <th>AnnualSalary</th>\n",
       "    </tr>\n",
       "  </thead>\n",
       "  <tbody>\n",
       "    <tr>\n",
       "      <th>0</th>\n",
       "      <td>Aaron,Keontae E</td>\n",
       "      <td>AIDE BLUE CHIP</td>\n",
       "      <td>W02200</td>\n",
       "      <td>Youth Summer</td>\n",
       "      <td>06/10/2013</td>\n",
       "      <td>$11310.00</td>\n",
       "    </tr>\n",
       "    <tr>\n",
       "      <th>1</th>\n",
       "      <td>Aaron,Patricia G</td>\n",
       "      <td>Facilities/Office Services II</td>\n",
       "      <td>A03031</td>\n",
       "      <td>OED-Employment Dev</td>\n",
       "      <td>10/24/1979</td>\n",
       "      <td>$53428.00</td>\n",
       "    </tr>\n",
       "    <tr>\n",
       "      <th>2</th>\n",
       "      <td>Aaron,Petra L</td>\n",
       "      <td>ASSISTANT STATE'S ATTORNEY</td>\n",
       "      <td>A29005</td>\n",
       "      <td>States Attorneys Office</td>\n",
       "      <td>09/25/2006</td>\n",
       "      <td>$68300.00</td>\n",
       "    </tr>\n",
       "    <tr>\n",
       "      <th>3</th>\n",
       "      <td>Abaineh,Yohannes T</td>\n",
       "      <td>EPIDEMIOLOGIST</td>\n",
       "      <td>A65026</td>\n",
       "      <td>HLTH-Health Department</td>\n",
       "      <td>07/23/2009</td>\n",
       "      <td>$62000.00</td>\n",
       "    </tr>\n",
       "    <tr>\n",
       "      <th>4</th>\n",
       "      <td>Abbene,Anthony M</td>\n",
       "      <td>POLICE OFFICER TRAINEE</td>\n",
       "      <td>A99416</td>\n",
       "      <td>Police Department</td>\n",
       "      <td>07/24/2013</td>\n",
       "      <td>$43999.00</td>\n",
       "    </tr>\n",
       "  </tbody>\n",
       "</table>\n",
       "</div>"
      ],
      "text/plain": [
       "                 Name                       JobTitle AgencyID  \\\n",
       "0     Aaron,Keontae E                 AIDE BLUE CHIP   W02200   \n",
       "1    Aaron,Patricia G  Facilities/Office Services II   A03031   \n",
       "2       Aaron,Petra L     ASSISTANT STATE'S ATTORNEY   A29005   \n",
       "3  Abaineh,Yohannes T                 EPIDEMIOLOGIST   A65026   \n",
       "4    Abbene,Anthony M         POLICE OFFICER TRAINEE   A99416   \n",
       "\n",
       "                     Agency    HireDate AnnualSalary  \n",
       "0            Youth Summer    06/10/2013    $11310.00  \n",
       "1       OED-Employment Dev   10/24/1979    $53428.00  \n",
       "2  States Attorneys Office   09/25/2006    $68300.00  \n",
       "3   HLTH-Health Department   07/23/2009    $62000.00  \n",
       "4        Police Department   07/24/2013    $43999.00  "
      ]
     },
     "execution_count": 13,
     "metadata": {},
     "output_type": "execute_result"
    }
   ],
   "source": [
    "salary.head()"
   ]
  },
  {
   "cell_type": "code",
   "execution_count": 14,
   "id": "86c92014",
   "metadata": {},
   "outputs": [
    {
     "name": "stderr",
     "output_type": "stream",
     "text": [
      "C:\\Users\\Dipesh Goyal\\AppData\\Local\\Temp\\ipykernel_8044\\1226648902.py:1: FutureWarning: The default value of regex will change from True to False in a future version. In addition, single character regular expressions will *not* be treated as literal strings when regex=True.\n",
      "  salary[\"AnnualSalary\"] = salary[\"AnnualSalary\"].str.replace(\"$\",\"\").astype(float)\n"
     ]
    }
   ],
   "source": [
    "salary[\"AnnualSalary\"] = salary[\"AnnualSalary\"].str.replace(\"$\",\"\").astype(float)"
   ]
  },
  {
   "cell_type": "code",
   "execution_count": 15,
   "id": "17e97c67",
   "metadata": {},
   "outputs": [
    {
     "data": {
      "text/html": [
       "<div>\n",
       "<style scoped>\n",
       "    .dataframe tbody tr th:only-of-type {\n",
       "        vertical-align: middle;\n",
       "    }\n",
       "\n",
       "    .dataframe tbody tr th {\n",
       "        vertical-align: top;\n",
       "    }\n",
       "\n",
       "    .dataframe thead th {\n",
       "        text-align: right;\n",
       "    }\n",
       "</style>\n",
       "<table border=\"1\" class=\"dataframe\">\n",
       "  <thead>\n",
       "    <tr style=\"text-align: right;\">\n",
       "      <th></th>\n",
       "      <th>Name</th>\n",
       "      <th>JobTitle</th>\n",
       "      <th>AgencyID</th>\n",
       "      <th>Agency</th>\n",
       "      <th>HireDate</th>\n",
       "      <th>AnnualSalary</th>\n",
       "    </tr>\n",
       "  </thead>\n",
       "  <tbody>\n",
       "    <tr>\n",
       "      <th>0</th>\n",
       "      <td>Aaron,Keontae E</td>\n",
       "      <td>AIDE BLUE CHIP</td>\n",
       "      <td>W02200</td>\n",
       "      <td>Youth Summer</td>\n",
       "      <td>06/10/2013</td>\n",
       "      <td>11310.0</td>\n",
       "    </tr>\n",
       "    <tr>\n",
       "      <th>1</th>\n",
       "      <td>Aaron,Patricia G</td>\n",
       "      <td>Facilities/Office Services II</td>\n",
       "      <td>A03031</td>\n",
       "      <td>OED-Employment Dev</td>\n",
       "      <td>10/24/1979</td>\n",
       "      <td>53428.0</td>\n",
       "    </tr>\n",
       "    <tr>\n",
       "      <th>2</th>\n",
       "      <td>Aaron,Petra L</td>\n",
       "      <td>ASSISTANT STATE'S ATTORNEY</td>\n",
       "      <td>A29005</td>\n",
       "      <td>States Attorneys Office</td>\n",
       "      <td>09/25/2006</td>\n",
       "      <td>68300.0</td>\n",
       "    </tr>\n",
       "    <tr>\n",
       "      <th>3</th>\n",
       "      <td>Abaineh,Yohannes T</td>\n",
       "      <td>EPIDEMIOLOGIST</td>\n",
       "      <td>A65026</td>\n",
       "      <td>HLTH-Health Department</td>\n",
       "      <td>07/23/2009</td>\n",
       "      <td>62000.0</td>\n",
       "    </tr>\n",
       "    <tr>\n",
       "      <th>4</th>\n",
       "      <td>Abbene,Anthony M</td>\n",
       "      <td>POLICE OFFICER TRAINEE</td>\n",
       "      <td>A99416</td>\n",
       "      <td>Police Department</td>\n",
       "      <td>07/24/2013</td>\n",
       "      <td>43999.0</td>\n",
       "    </tr>\n",
       "  </tbody>\n",
       "</table>\n",
       "</div>"
      ],
      "text/plain": [
       "                 Name                       JobTitle AgencyID  \\\n",
       "0     Aaron,Keontae E                 AIDE BLUE CHIP   W02200   \n",
       "1    Aaron,Patricia G  Facilities/Office Services II   A03031   \n",
       "2       Aaron,Petra L     ASSISTANT STATE'S ATTORNEY   A29005   \n",
       "3  Abaineh,Yohannes T                 EPIDEMIOLOGIST   A65026   \n",
       "4    Abbene,Anthony M         POLICE OFFICER TRAINEE   A99416   \n",
       "\n",
       "                     Agency    HireDate  AnnualSalary  \n",
       "0            Youth Summer    06/10/2013       11310.0  \n",
       "1       OED-Employment Dev   10/24/1979       53428.0  \n",
       "2  States Attorneys Office   09/25/2006       68300.0  \n",
       "3   HLTH-Health Department   07/23/2009       62000.0  \n",
       "4        Police Department   07/24/2013       43999.0  "
      ]
     },
     "execution_count": 15,
     "metadata": {},
     "output_type": "execute_result"
    }
   ],
   "source": [
    "salary.head()"
   ]
  },
  {
   "cell_type": "code",
   "execution_count": 16,
   "id": "eb1467e4",
   "metadata": {},
   "outputs": [
    {
     "name": "stdout",
     "output_type": "stream",
     "text": [
      "<class 'pandas.core.frame.DataFrame'>\n",
      "RangeIndex: 18981 entries, 0 to 18980\n",
      "Data columns (total 6 columns):\n",
      " #   Column        Non-Null Count  Dtype  \n",
      "---  ------        --------------  -----  \n",
      " 0   Name          18981 non-null  object \n",
      " 1   JobTitle      18981 non-null  object \n",
      " 2   AgencyID      18981 non-null  object \n",
      " 3   Agency        18981 non-null  object \n",
      " 4   HireDate      18981 non-null  object \n",
      " 5   AnnualSalary  18981 non-null  float64\n",
      "dtypes: float64(1), object(5)\n",
      "memory usage: 889.9+ KB\n"
     ]
    }
   ],
   "source": [
    "salary.info()"
   ]
  },
  {
   "cell_type": "code",
   "execution_count": 17,
   "id": "7f3e9cc0",
   "metadata": {},
   "outputs": [
    {
     "data": {
      "text/plain": [
       "(18981, 6)"
      ]
     },
     "execution_count": 17,
     "metadata": {},
     "output_type": "execute_result"
    }
   ],
   "source": [
    "salary.shape"
   ]
  },
  {
   "cell_type": "markdown",
   "id": "fb0926d9",
   "metadata": {},
   "source": [
    "In This Data table for predicting salary 'Name' column can't help so we are removing this Column"
   ]
  },
  {
   "cell_type": "code",
   "execution_count": 18,
   "id": "7b7ffe0c",
   "metadata": {},
   "outputs": [],
   "source": [
    "salary = salary.drop([\"Name\"],axis=1)"
   ]
  },
  {
   "cell_type": "code",
   "execution_count": 19,
   "id": "18a4c05c",
   "metadata": {},
   "outputs": [
    {
     "data": {
      "text/html": [
       "<div>\n",
       "<style scoped>\n",
       "    .dataframe tbody tr th:only-of-type {\n",
       "        vertical-align: middle;\n",
       "    }\n",
       "\n",
       "    .dataframe tbody tr th {\n",
       "        vertical-align: top;\n",
       "    }\n",
       "\n",
       "    .dataframe thead th {\n",
       "        text-align: right;\n",
       "    }\n",
       "</style>\n",
       "<table border=\"1\" class=\"dataframe\">\n",
       "  <thead>\n",
       "    <tr style=\"text-align: right;\">\n",
       "      <th></th>\n",
       "      <th>JobTitle</th>\n",
       "      <th>AgencyID</th>\n",
       "      <th>Agency</th>\n",
       "      <th>HireDate</th>\n",
       "      <th>AnnualSalary</th>\n",
       "    </tr>\n",
       "  </thead>\n",
       "  <tbody>\n",
       "    <tr>\n",
       "      <th>0</th>\n",
       "      <td>AIDE BLUE CHIP</td>\n",
       "      <td>W02200</td>\n",
       "      <td>Youth Summer</td>\n",
       "      <td>06/10/2013</td>\n",
       "      <td>11310.0</td>\n",
       "    </tr>\n",
       "    <tr>\n",
       "      <th>1</th>\n",
       "      <td>Facilities/Office Services II</td>\n",
       "      <td>A03031</td>\n",
       "      <td>OED-Employment Dev</td>\n",
       "      <td>10/24/1979</td>\n",
       "      <td>53428.0</td>\n",
       "    </tr>\n",
       "    <tr>\n",
       "      <th>2</th>\n",
       "      <td>ASSISTANT STATE'S ATTORNEY</td>\n",
       "      <td>A29005</td>\n",
       "      <td>States Attorneys Office</td>\n",
       "      <td>09/25/2006</td>\n",
       "      <td>68300.0</td>\n",
       "    </tr>\n",
       "    <tr>\n",
       "      <th>3</th>\n",
       "      <td>EPIDEMIOLOGIST</td>\n",
       "      <td>A65026</td>\n",
       "      <td>HLTH-Health Department</td>\n",
       "      <td>07/23/2009</td>\n",
       "      <td>62000.0</td>\n",
       "    </tr>\n",
       "    <tr>\n",
       "      <th>4</th>\n",
       "      <td>POLICE OFFICER TRAINEE</td>\n",
       "      <td>A99416</td>\n",
       "      <td>Police Department</td>\n",
       "      <td>07/24/2013</td>\n",
       "      <td>43999.0</td>\n",
       "    </tr>\n",
       "  </tbody>\n",
       "</table>\n",
       "</div>"
      ],
      "text/plain": [
       "                        JobTitle AgencyID                    Agency  \\\n",
       "0                 AIDE BLUE CHIP   W02200            Youth Summer     \n",
       "1  Facilities/Office Services II   A03031       OED-Employment Dev    \n",
       "2     ASSISTANT STATE'S ATTORNEY   A29005  States Attorneys Office    \n",
       "3                 EPIDEMIOLOGIST   A65026   HLTH-Health Department    \n",
       "4         POLICE OFFICER TRAINEE   A99416        Police Department    \n",
       "\n",
       "     HireDate  AnnualSalary  \n",
       "0  06/10/2013       11310.0  \n",
       "1  10/24/1979       53428.0  \n",
       "2  09/25/2006       68300.0  \n",
       "3  07/23/2009       62000.0  \n",
       "4  07/24/2013       43999.0  "
      ]
     },
     "execution_count": 19,
     "metadata": {},
     "output_type": "execute_result"
    }
   ],
   "source": [
    "salary.head()"
   ]
  },
  {
   "cell_type": "code",
   "execution_count": 20,
   "id": "09c2ee63",
   "metadata": {},
   "outputs": [
    {
     "data": {
      "text/plain": [
       "0        11310.0\n",
       "1        53428.0\n",
       "2        68300.0\n",
       "3        62000.0\n",
       "4        43999.0\n",
       "          ...   \n",
       "18976    11310.0\n",
       "18977    11310.0\n",
       "18978    43999.0\n",
       "18979    44104.0\n",
       "18980    53568.0\n",
       "Name: AnnualSalary, Length: 18981, dtype: float64"
      ]
     },
     "execution_count": 20,
     "metadata": {},
     "output_type": "execute_result"
    }
   ],
   "source": [
    "salary[\"AnnualSalary\"]"
   ]
  },
  {
   "cell_type": "code",
   "execution_count": 21,
   "id": "415cd24c",
   "metadata": {},
   "outputs": [],
   "source": [
    "salary[[\"Month\",\"Day\",\"Year\"]] = salary[\"HireDate\"].str.split(\"/\",expand=True)"
   ]
  },
  {
   "cell_type": "code",
   "execution_count": 22,
   "id": "dc54b77f",
   "metadata": {},
   "outputs": [
    {
     "data": {
      "text/html": [
       "<div>\n",
       "<style scoped>\n",
       "    .dataframe tbody tr th:only-of-type {\n",
       "        vertical-align: middle;\n",
       "    }\n",
       "\n",
       "    .dataframe tbody tr th {\n",
       "        vertical-align: top;\n",
       "    }\n",
       "\n",
       "    .dataframe thead th {\n",
       "        text-align: right;\n",
       "    }\n",
       "</style>\n",
       "<table border=\"1\" class=\"dataframe\">\n",
       "  <thead>\n",
       "    <tr style=\"text-align: right;\">\n",
       "      <th></th>\n",
       "      <th>JobTitle</th>\n",
       "      <th>AgencyID</th>\n",
       "      <th>Agency</th>\n",
       "      <th>HireDate</th>\n",
       "      <th>AnnualSalary</th>\n",
       "      <th>Month</th>\n",
       "      <th>Day</th>\n",
       "      <th>Year</th>\n",
       "    </tr>\n",
       "  </thead>\n",
       "  <tbody>\n",
       "    <tr>\n",
       "      <th>0</th>\n",
       "      <td>AIDE BLUE CHIP</td>\n",
       "      <td>W02200</td>\n",
       "      <td>Youth Summer</td>\n",
       "      <td>06/10/2013</td>\n",
       "      <td>11310.0</td>\n",
       "      <td>06</td>\n",
       "      <td>10</td>\n",
       "      <td>2013</td>\n",
       "    </tr>\n",
       "    <tr>\n",
       "      <th>1</th>\n",
       "      <td>Facilities/Office Services II</td>\n",
       "      <td>A03031</td>\n",
       "      <td>OED-Employment Dev</td>\n",
       "      <td>10/24/1979</td>\n",
       "      <td>53428.0</td>\n",
       "      <td>10</td>\n",
       "      <td>24</td>\n",
       "      <td>1979</td>\n",
       "    </tr>\n",
       "    <tr>\n",
       "      <th>2</th>\n",
       "      <td>ASSISTANT STATE'S ATTORNEY</td>\n",
       "      <td>A29005</td>\n",
       "      <td>States Attorneys Office</td>\n",
       "      <td>09/25/2006</td>\n",
       "      <td>68300.0</td>\n",
       "      <td>09</td>\n",
       "      <td>25</td>\n",
       "      <td>2006</td>\n",
       "    </tr>\n",
       "    <tr>\n",
       "      <th>3</th>\n",
       "      <td>EPIDEMIOLOGIST</td>\n",
       "      <td>A65026</td>\n",
       "      <td>HLTH-Health Department</td>\n",
       "      <td>07/23/2009</td>\n",
       "      <td>62000.0</td>\n",
       "      <td>07</td>\n",
       "      <td>23</td>\n",
       "      <td>2009</td>\n",
       "    </tr>\n",
       "    <tr>\n",
       "      <th>4</th>\n",
       "      <td>POLICE OFFICER TRAINEE</td>\n",
       "      <td>A99416</td>\n",
       "      <td>Police Department</td>\n",
       "      <td>07/24/2013</td>\n",
       "      <td>43999.0</td>\n",
       "      <td>07</td>\n",
       "      <td>24</td>\n",
       "      <td>2013</td>\n",
       "    </tr>\n",
       "  </tbody>\n",
       "</table>\n",
       "</div>"
      ],
      "text/plain": [
       "                        JobTitle AgencyID                    Agency  \\\n",
       "0                 AIDE BLUE CHIP   W02200            Youth Summer     \n",
       "1  Facilities/Office Services II   A03031       OED-Employment Dev    \n",
       "2     ASSISTANT STATE'S ATTORNEY   A29005  States Attorneys Office    \n",
       "3                 EPIDEMIOLOGIST   A65026   HLTH-Health Department    \n",
       "4         POLICE OFFICER TRAINEE   A99416        Police Department    \n",
       "\n",
       "     HireDate  AnnualSalary Month Day  Year  \n",
       "0  06/10/2013       11310.0    06  10  2013  \n",
       "1  10/24/1979       53428.0    10  24  1979  \n",
       "2  09/25/2006       68300.0    09  25  2006  \n",
       "3  07/23/2009       62000.0    07  23  2009  \n",
       "4  07/24/2013       43999.0    07  24  2013  "
      ]
     },
     "execution_count": 22,
     "metadata": {},
     "output_type": "execute_result"
    }
   ],
   "source": [
    "salary.head()"
   ]
  },
  {
   "cell_type": "code",
   "execution_count": 23,
   "id": "24abcc9f",
   "metadata": {},
   "outputs": [],
   "source": [
    "salary[\"Month\"] = salary[\"Month\"].astype(int)\n",
    "salary[\"Day\"] = salary[\"Day\"].astype(int)\n",
    "salary[\"Year\"] = salary[\"Year\"].astype(int)"
   ]
  },
  {
   "cell_type": "code",
   "execution_count": 24,
   "id": "44b85721",
   "metadata": {},
   "outputs": [
    {
     "name": "stdout",
     "output_type": "stream",
     "text": [
      "<class 'pandas.core.frame.DataFrame'>\n",
      "RangeIndex: 18981 entries, 0 to 18980\n",
      "Data columns (total 8 columns):\n",
      " #   Column        Non-Null Count  Dtype  \n",
      "---  ------        --------------  -----  \n",
      " 0   JobTitle      18981 non-null  object \n",
      " 1   AgencyID      18981 non-null  object \n",
      " 2   Agency        18981 non-null  object \n",
      " 3   HireDate      18981 non-null  object \n",
      " 4   AnnualSalary  18981 non-null  float64\n",
      " 5   Month         18981 non-null  int32  \n",
      " 6   Day           18981 non-null  int32  \n",
      " 7   Year          18981 non-null  int32  \n",
      "dtypes: float64(1), int32(3), object(4)\n",
      "memory usage: 964.0+ KB\n"
     ]
    }
   ],
   "source": [
    "salary.info()"
   ]
  },
  {
   "cell_type": "code",
   "execution_count": 25,
   "id": "b8fb001e",
   "metadata": {},
   "outputs": [
    {
     "data": {
      "text/plain": [
       "AIDE BLUE CHIP                    4817\n",
       "POLICE OFFICER                    1866\n",
       "LABORER (Hourly)                   597\n",
       "EMT Firefighter Suppression        358\n",
       "CROSSING GUARD                     337\n",
       "                                  ... \n",
       "VEHICLE DAMAGE INVESTIGATOR          1\n",
       "Community Health Nurse I             1\n",
       "ACCOUNTING SYSTEMS ANALYST           1\n",
       "DESK TOP PUBLISHING COORDINATO       1\n",
       "Research Analyst II                  1\n",
       "Name: JobTitle, Length: 1075, dtype: int64"
      ]
     },
     "execution_count": 25,
     "metadata": {},
     "output_type": "execute_result"
    }
   ],
   "source": [
    "salary[\"JobTitle\"].value_counts()"
   ]
  },
  {
   "cell_type": "markdown",
   "id": "7f3b4127",
   "metadata": {},
   "source": [
    "> Most of the employee Have JOB Title AS 'AIDE BLUE CHIP'"
   ]
  },
  {
   "cell_type": "code",
   "execution_count": 26,
   "id": "5c3c6b33",
   "metadata": {},
   "outputs": [
    {
     "data": {
      "text/plain": [
       "P04001    316\n",
       "C90786    276\n",
       "W02629    193\n",
       "P04002    191\n",
       "A99416    166\n",
       "         ... \n",
       "W02539      1\n",
       "A65052      1\n",
       "W02106      1\n",
       "W02590      1\n",
       "W02339      1\n",
       "Name: AgencyID, Length: 1177, dtype: int64"
      ]
     },
     "execution_count": 26,
     "metadata": {},
     "output_type": "execute_result"
    }
   ],
   "source": [
    "salary[\"AgencyID\"].value_counts()"
   ]
  },
  {
   "cell_type": "code",
   "execution_count": 27,
   "id": "fd80ed04",
   "metadata": {},
   "outputs": [
    {
     "data": {
      "text/plain": [
       "Youth Summer                4323\n",
       "Police Department           3211\n",
       "Fire Department             1576\n",
       "DPW-Water & Waste Water     1491\n",
       "HLTH-Health Department       833\n",
       "                            ... \n",
       "Council Services               6\n",
       "HLTH-Health Dept Locatio       6\n",
       "Legislative Reference          5\n",
       "M-R Cable & Comm               4\n",
       "Special City Services          4\n",
       "Name: Agency, Length: 65, dtype: int64"
      ]
     },
     "execution_count": 27,
     "metadata": {},
     "output_type": "execute_result"
    }
   ],
   "source": [
    "salary[\"Agency\"].value_counts()"
   ]
  },
  {
   "cell_type": "markdown",
   "id": "cd1222b5",
   "metadata": {},
   "source": [
    ">With the help of Agency and AgencyID column we can say one Agency have MUltipal Agency ID"
   ]
  },
  {
   "cell_type": "code",
   "execution_count": 28,
   "id": "71151f33",
   "metadata": {},
   "outputs": [],
   "source": [
    "x = salary.groupby(\"Agency\")[\"AgencyID\"].nunique().sort_values()"
   ]
  },
  {
   "cell_type": "code",
   "execution_count": 29,
   "id": "7b45ec08",
   "metadata": {},
   "outputs": [],
   "source": [
    "y = salary.groupby(\"AgencyID\")[\"Agency\"].nunique().sort_values()"
   ]
  },
  {
   "cell_type": "code",
   "execution_count": 30,
   "id": "a6756429",
   "metadata": {},
   "outputs": [
    {
     "data": {
      "text/plain": [
       "Agency\n",
       "HLTH-Heatlh Dept. Locatio      1\n",
       "M-R Labor Commissioner         1\n",
       "M-R Cable & Comm               1\n",
       "Mayor's Office                 1\n",
       "HLTH-Heatlh                    1\n",
       "                            ... \n",
       "Enoch Pratt Free Library      57\n",
       "Fire Department               69\n",
       "Youth Summer                  77\n",
       "Police Department            133\n",
       "Youth Summer                 424\n",
       "Name: AgencyID, Length: 65, dtype: int64"
      ]
     },
     "execution_count": 30,
     "metadata": {},
     "output_type": "execute_result"
    }
   ],
   "source": [
    "x"
   ]
  },
  {
   "cell_type": "markdown",
   "id": "de1069e4",
   "metadata": {},
   "source": [
    ">With the help of this we can say One Agency have multipal Agency Id and \"Youth Summer\" have most number of Agency ID"
   ]
  },
  {
   "cell_type": "code",
   "execution_count": 31,
   "id": "9dbe140a",
   "metadata": {},
   "outputs": [
    {
     "data": {
      "text/plain": [
       "AgencyID\n",
       "A01001    1\n",
       "W02236    1\n",
       "W02235    1\n",
       "W02234    1\n",
       "W02233    1\n",
       "         ..\n",
       "A70104    1\n",
       "A70103    1\n",
       "A70101    1\n",
       "A75001    1\n",
       "W07905    1\n",
       "Name: Agency, Length: 1177, dtype: int64"
      ]
     },
     "execution_count": 31,
     "metadata": {},
     "output_type": "execute_result"
    }
   ],
   "source": [
    "y"
   ]
  },
  {
   "cell_type": "markdown",
   "id": "30144510",
   "metadata": {},
   "source": [
    ">with the help of this we can say one AgencyID is only designated only one Agency"
   ]
  },
  {
   "cell_type": "code",
   "execution_count": 32,
   "id": "96485444",
   "metadata": {},
   "outputs": [
    {
     "data": {
      "text/plain": [
       "array([1], dtype=int64)"
      ]
     },
     "execution_count": 32,
     "metadata": {},
     "output_type": "execute_result"
    }
   ],
   "source": [
    "y.unique()"
   ]
  },
  {
   "cell_type": "code",
   "execution_count": 33,
   "id": "59b86e86",
   "metadata": {},
   "outputs": [
    {
     "data": {
      "text/plain": [
       "05/21/2014    1478\n",
       "06/10/2013     696\n",
       "06/12/2012     541\n",
       "06/07/2011     368\n",
       "05/29/2014     347\n",
       "              ... \n",
       "02/13/2009       1\n",
       "08/12/1993       1\n",
       "02/09/1998       1\n",
       "05/06/1980       1\n",
       "10/15/1979       1\n",
       "Name: HireDate, Length: 4737, dtype: int64"
      ]
     },
     "execution_count": 33,
     "metadata": {},
     "output_type": "execute_result"
    }
   ],
   "source": [
    "salary[\"HireDate\"].value_counts()"
   ]
  },
  {
   "cell_type": "markdown",
   "id": "54e9693e",
   "metadata": {},
   "source": [
    "> Most Employee is Hired on 5/21/2014"
   ]
  },
  {
   "cell_type": "code",
   "execution_count": 34,
   "id": "d6047d5f",
   "metadata": {},
   "outputs": [
    {
     "data": {
      "text/html": [
       "<div>\n",
       "<style scoped>\n",
       "    .dataframe tbody tr th:only-of-type {\n",
       "        vertical-align: middle;\n",
       "    }\n",
       "\n",
       "    .dataframe tbody tr th {\n",
       "        vertical-align: top;\n",
       "    }\n",
       "\n",
       "    .dataframe thead th {\n",
       "        text-align: right;\n",
       "    }\n",
       "</style>\n",
       "<table border=\"1\" class=\"dataframe\">\n",
       "  <thead>\n",
       "    <tr style=\"text-align: right;\">\n",
       "      <th></th>\n",
       "      <th>JobTitle</th>\n",
       "      <th>AgencyID</th>\n",
       "      <th>Agency</th>\n",
       "      <th>HireDate</th>\n",
       "      <th>AnnualSalary</th>\n",
       "      <th>Month</th>\n",
       "      <th>Day</th>\n",
       "      <th>Year</th>\n",
       "    </tr>\n",
       "  </thead>\n",
       "  <tbody>\n",
       "    <tr>\n",
       "      <th>0</th>\n",
       "      <td>AIDE BLUE CHIP</td>\n",
       "      <td>W02200</td>\n",
       "      <td>Youth Summer</td>\n",
       "      <td>06/10/2013</td>\n",
       "      <td>11310.0</td>\n",
       "      <td>6</td>\n",
       "      <td>10</td>\n",
       "      <td>2013</td>\n",
       "    </tr>\n",
       "    <tr>\n",
       "      <th>1</th>\n",
       "      <td>Facilities/Office Services II</td>\n",
       "      <td>A03031</td>\n",
       "      <td>OED-Employment Dev</td>\n",
       "      <td>10/24/1979</td>\n",
       "      <td>53428.0</td>\n",
       "      <td>10</td>\n",
       "      <td>24</td>\n",
       "      <td>1979</td>\n",
       "    </tr>\n",
       "    <tr>\n",
       "      <th>2</th>\n",
       "      <td>ASSISTANT STATE'S ATTORNEY</td>\n",
       "      <td>A29005</td>\n",
       "      <td>States Attorneys Office</td>\n",
       "      <td>09/25/2006</td>\n",
       "      <td>68300.0</td>\n",
       "      <td>9</td>\n",
       "      <td>25</td>\n",
       "      <td>2006</td>\n",
       "    </tr>\n",
       "    <tr>\n",
       "      <th>3</th>\n",
       "      <td>EPIDEMIOLOGIST</td>\n",
       "      <td>A65026</td>\n",
       "      <td>HLTH-Health Department</td>\n",
       "      <td>07/23/2009</td>\n",
       "      <td>62000.0</td>\n",
       "      <td>7</td>\n",
       "      <td>23</td>\n",
       "      <td>2009</td>\n",
       "    </tr>\n",
       "    <tr>\n",
       "      <th>4</th>\n",
       "      <td>POLICE OFFICER TRAINEE</td>\n",
       "      <td>A99416</td>\n",
       "      <td>Police Department</td>\n",
       "      <td>07/24/2013</td>\n",
       "      <td>43999.0</td>\n",
       "      <td>7</td>\n",
       "      <td>24</td>\n",
       "      <td>2013</td>\n",
       "    </tr>\n",
       "  </tbody>\n",
       "</table>\n",
       "</div>"
      ],
      "text/plain": [
       "                        JobTitle AgencyID                    Agency  \\\n",
       "0                 AIDE BLUE CHIP   W02200            Youth Summer     \n",
       "1  Facilities/Office Services II   A03031       OED-Employment Dev    \n",
       "2     ASSISTANT STATE'S ATTORNEY   A29005  States Attorneys Office    \n",
       "3                 EPIDEMIOLOGIST   A65026   HLTH-Health Department    \n",
       "4         POLICE OFFICER TRAINEE   A99416        Police Department    \n",
       "\n",
       "     HireDate  AnnualSalary  Month  Day  Year  \n",
       "0  06/10/2013       11310.0      6   10  2013  \n",
       "1  10/24/1979       53428.0     10   24  1979  \n",
       "2  09/25/2006       68300.0      9   25  2006  \n",
       "3  07/23/2009       62000.0      7   23  2009  \n",
       "4  07/24/2013       43999.0      7   24  2013  "
      ]
     },
     "execution_count": 34,
     "metadata": {},
     "output_type": "execute_result"
    }
   ],
   "source": [
    "salary.head()"
   ]
  },
  {
   "cell_type": "code",
   "execution_count": 35,
   "id": "f6ba56ee",
   "metadata": {},
   "outputs": [
    {
     "data": {
      "text/plain": [
       "count     18981.000000\n",
       "mean      39756.791968\n",
       "std       25173.051216\n",
       "min           0.000000\n",
       "25%       11310.000000\n",
       "50%       36400.000000\n",
       "75%       60598.000000\n",
       "max      238772.000000\n",
       "Name: AnnualSalary, dtype: float64"
      ]
     },
     "execution_count": 35,
     "metadata": {},
     "output_type": "execute_result"
    }
   ],
   "source": [
    "salary.AnnualSalary.describe()"
   ]
  },
  {
   "cell_type": "code",
   "execution_count": 36,
   "id": "6cf72380",
   "metadata": {},
   "outputs": [
    {
     "data": {
      "image/png": "[encoded data removed]",
      "text/plain": [
       "<Figure size 432x288 with 1 Axes>"
      ]
     },
     "metadata": {
      "needs_background": "light"
     },
     "output_type": "display_data"
    }
   ],
   "source": [
    "salary[\"AnnualSalary\"].plot.box()\n",
    "plt.show()"
   ]
  },
  {
   "cell_type": "code",
   "execution_count": 37,
   "id": "c7224e91",
   "metadata": {},
   "outputs": [
    {
     "data": {
      "text/plain": [
       "(25, 8)"
      ]
     },
     "execution_count": 37,
     "metadata": {},
     "output_type": "execute_result"
    }
   ],
   "source": [
    "salary[salary[\"AnnualSalary\"]>140000].shape"
   ]
  },
  {
   "cell_type": "code",
   "execution_count": 38,
   "id": "5fd46f08",
   "metadata": {},
   "outputs": [],
   "source": [
    "salary = salary[salary[\"AnnualSalary\"]<140000]"
   ]
  },
  {
   "cell_type": "code",
   "execution_count": 39,
   "id": "5b7f08ae",
   "metadata": {},
   "outputs": [
    {
     "data": {
      "text/plain": [
       "(18955, 8)"
      ]
     },
     "execution_count": 39,
     "metadata": {},
     "output_type": "execute_result"
    }
   ],
   "source": [
    "salary.shape"
   ]
  },
  {
   "cell_type": "code",
   "execution_count": 40,
   "id": "c254d5a0",
   "metadata": {},
   "outputs": [
    {
     "data": {
      "text/plain": [
       "<Axes: >"
      ]
     },
     "execution_count": 40,
     "metadata": {},
     "output_type": "execute_result"
    },
    {
     "data": {
      "image/png": "[encoded data removed]",
      "text/plain": [
       "<Figure size 432x288 with 1 Axes>"
      ]
     },
     "metadata": {
      "needs_background": "light"
     },
     "output_type": "display_data"
    }
   ],
   "source": [
    "salary[\"AnnualSalary\"].plot.box()"
   ]
  },
  {
   "cell_type": "code",
   "execution_count": 85,
   "id": "5391b50c",
   "metadata": {},
   "outputs": [
    {
     "data": {
      "text/html": [
       "<div>\n",
       "<style scoped>\n",
       "    .dataframe tbody tr th:only-of-type {\n",
       "        vertical-align: middle;\n",
       "    }\n",
       "\n",
       "    .dataframe tbody tr th {\n",
       "        vertical-align: top;\n",
       "    }\n",
       "\n",
       "    .dataframe thead th {\n",
       "        text-align: right;\n",
       "    }\n",
       "</style>\n",
       "<table border=\"1\" class=\"dataframe\">\n",
       "  <thead>\n",
       "    <tr style=\"text-align: right;\">\n",
       "      <th></th>\n",
       "      <th>JobTitle</th>\n",
       "      <th>AgencyID</th>\n",
       "      <th>Agency</th>\n",
       "      <th>AnnualSalary</th>\n",
       "      <th>Month</th>\n",
       "      <th>Day</th>\n",
       "      <th>Year</th>\n",
       "    </tr>\n",
       "  </thead>\n",
       "  <tbody>\n",
       "    <tr>\n",
       "      <th>0</th>\n",
       "      <td>11313.967200</td>\n",
       "      <td>11310.000000</td>\n",
       "      <td>11310.270645</td>\n",
       "      <td>11310.0</td>\n",
       "      <td>6</td>\n",
       "      <td>10</td>\n",
       "      <td>2013</td>\n",
       "    </tr>\n",
       "    <tr>\n",
       "      <th>1</th>\n",
       "      <td>47443.500000</td>\n",
       "      <td>46667.000000</td>\n",
       "      <td>51495.424242</td>\n",
       "      <td>53428.0</td>\n",
       "      <td>10</td>\n",
       "      <td>24</td>\n",
       "      <td>1979</td>\n",
       "    </tr>\n",
       "    <tr>\n",
       "      <th>2</th>\n",
       "      <td>69750.666667</td>\n",
       "      <td>65926.133333</td>\n",
       "      <td>64874.560224</td>\n",
       "      <td>68300.0</td>\n",
       "      <td>9</td>\n",
       "      <td>25</td>\n",
       "      <td>2006</td>\n",
       "    </tr>\n",
       "    <tr>\n",
       "      <th>3</th>\n",
       "      <td>57940.000000</td>\n",
       "      <td>48071.851064</td>\n",
       "      <td>39980.900360</td>\n",
       "      <td>62000.0</td>\n",
       "      <td>7</td>\n",
       "      <td>23</td>\n",
       "      <td>2009</td>\n",
       "    </tr>\n",
       "    <tr>\n",
       "      <th>4</th>\n",
       "      <td>44531.160494</td>\n",
       "      <td>44012.307229</td>\n",
       "      <td>61575.070137</td>\n",
       "      <td>43999.0</td>\n",
       "      <td>7</td>\n",
       "      <td>24</td>\n",
       "      <td>2013</td>\n",
       "    </tr>\n",
       "  </tbody>\n",
       "</table>\n",
       "</div>"
      ],
      "text/plain": [
       "       JobTitle      AgencyID        Agency  AnnualSalary  Month  Day  Year\n",
       "0  11313.967200  11310.000000  11310.270645       11310.0      6   10  2013\n",
       "1  47443.500000  46667.000000  51495.424242       53428.0     10   24  1979\n",
       "2  69750.666667  65926.133333  64874.560224       68300.0      9   25  2006\n",
       "3  57940.000000  48071.851064  39980.900360       62000.0      7   23  2009\n",
       "4  44531.160494  44012.307229  61575.070137       43999.0      7   24  2013"
      ]
     },
     "execution_count": 85,
     "metadata": {},
     "output_type": "execute_result"
    }
   ],
   "source": [
    "salary.head()"
   ]
  },
  {
   "cell_type": "code",
   "execution_count": 42,
   "id": "6d3c97b3",
   "metadata": {},
   "outputs": [
    {
     "name": "stderr",
     "output_type": "stream",
     "text": [
      "C:\\Users\\Dipesh Goyal\\anaconda3\\lib\\site-packages\\seaborn\\distributions.py:2619: FutureWarning: `distplot` is a deprecated function and will be removed in a future version. Please adapt your code to use either `displot` (a figure-level function with similar flexibility) or `histplot` (an axes-level function for histograms).\n",
      "  warnings.warn(msg, FutureWarning)\n"
     ]
    },
    {
     "data": {
      "image/png": "[encoded data removed]",
      "text/plain": [
       "<Figure size 432x288 with 1 Axes>"
      ]
     },
     "metadata": {
      "needs_background": "light"
     },
     "output_type": "display_data"
    }
   ],
   "source": [
    "sns.distplot(salary[\"AnnualSalary\"])\n",
    "plt.show()"
   ]
  },
  {
   "cell_type": "code",
   "execution_count": 43,
   "id": "60d2e0ff",
   "metadata": {},
   "outputs": [
    {
     "data": {
      "image/png": "[encoded data removed]",
      "text/plain": [
       "<Figure size 360x360 with 1 Axes>"
      ]
     },
     "metadata": {
      "needs_background": "light"
     },
     "output_type": "display_data"
    }
   ],
   "source": [
    "sns.displot(salary[\"AnnualSalary\"])\n",
    "plt.show()"
   ]
  },
  {
   "cell_type": "code",
   "execution_count": 44,
   "id": "6e337c43",
   "metadata": {},
   "outputs": [
    {
     "data": {
      "image/png": "[encoded data removed]",
      "text/plain": [
       "<Figure size 432x288 with 1 Axes>"
      ]
     },
     "metadata": {
      "needs_background": "light"
     },
     "output_type": "display_data"
    }
   ],
   "source": [
    "salary.groupby([\"JobTitle\"])[\"JobTitle\"].count().sort_values(ascending=False).head(10).plot.bar()\n",
    "plt.ylabel(\"Number of Employee HIred For Job \")\n",
    "plt.title(\"Top 10 Jobs\")\n",
    "plt.show()"
   ]
  },
  {
   "cell_type": "code",
   "execution_count": 45,
   "id": "037cba11",
   "metadata": {},
   "outputs": [
    {
     "data": {
      "text/plain": [
       "Text(0.5, 1.0, 'Top 10 Hogher Paying Job According to Different Job Title')"
      ]
     },
     "execution_count": 45,
     "metadata": {},
     "output_type": "execute_result"
    },
    {
     "data": {
      "image/png": "[encoded data removed]",
      "text/plain": [
       "<Figure size 504x288 with 1 Axes>"
      ]
     },
     "metadata": {
      "needs_background": "light"
     },
     "output_type": "display_data"
    }
   ],
   "source": [
    "plt.figure(figsize=(7,4))\n",
    "salary.groupby(\"JobTitle\")[\"AnnualSalary\"].max().sort_values(ascending=False).head(10).plot.bar()\n",
    "plt.ylabel(\"Salary Amount\")\n",
    "plt.title(\"Top 10 Hogher Paying Job According to Different Job Title\",pad=10)"
   ]
  },
  {
   "cell_type": "code",
   "execution_count": 46,
   "id": "f0eb70f5",
   "metadata": {},
   "outputs": [
    {
     "data": {
      "image/png": "[encoded data removed]",
      "text/plain": [
       "<Figure size 576x288 with 1 Axes>"
      ]
     },
     "metadata": {
      "needs_background": "light"
     },
     "output_type": "display_data"
    }
   ],
   "source": [
    "plt.figure(figsize=(8,4))\n",
    "salary.groupby(\"Agency\")[\"Agency\"].count().sort_values(ascending=False).head(10).plot.bar()\n",
    "plt.ylabel(\"Number of Employee hire by Agency\")\n",
    "plt.title(\"Top 10 Agency which hire most employee\",pad=10)\n",
    "plt.show()"
   ]
  },
  {
   "cell_type": "code",
   "execution_count": 47,
   "id": "2276409f",
   "metadata": {},
   "outputs": [
    {
     "data": {
      "image/png": "[encoded data removed]",
      "text/plain": [
       "<Figure size 576x288 with 1 Axes>"
      ]
     },
     "metadata": {
      "needs_background": "light"
     },
     "output_type": "display_data"
    }
   ],
   "source": [
    "plt.figure(figsize=(8,4))\n",
    "salary.groupby(\"Agency\")[\"Agency\"].count().sort_values().head(10).plot.bar()\n",
    "plt.ylabel(\"Number of Employee hire by Agency\")\n",
    "plt.xlabel(\"Agency Name\")\n",
    "plt.title(\"Agencies which hire Very Less NUmber of employee\",pad=10)\n",
    "plt.show()"
   ]
  },
  {
   "cell_type": "code",
   "execution_count": 48,
   "id": "42247914",
   "metadata": {},
   "outputs": [
    {
     "data": {
      "image/png": "[encoded data removed]",
      "text/plain": [
       "<Figure size 576x288 with 1 Axes>"
      ]
     },
     "metadata": {
      "needs_background": "light"
     },
     "output_type": "display_data"
    }
   ],
   "source": [
    "plt.figure(figsize=(8,4))\n",
    "salary.groupby(\"AgencyID\")[\"AgencyID\"].count().sort_values(ascending=False).head(10).plot.bar()\n",
    "plt.ylabel(\"Number of Employee hire By Agency ID\")\n",
    "plt.title(\"Top 10 Agency ID which hire most employee\",pad=10)\n",
    "plt.grid(alpha=0.6)\n",
    "plt.show()"
   ]
  },
  {
   "cell_type": "code",
   "execution_count": 49,
   "id": "4a01eb28",
   "metadata": {},
   "outputs": [
    {
     "data": {
      "text/html": [
       "<div>\n",
       "<style scoped>\n",
       "    .dataframe tbody tr th:only-of-type {\n",
       "        vertical-align: middle;\n",
       "    }\n",
       "\n",
       "    .dataframe tbody tr th {\n",
       "        vertical-align: top;\n",
       "    }\n",
       "\n",
       "    .dataframe thead th {\n",
       "        text-align: right;\n",
       "    }\n",
       "</style>\n",
       "<table border=\"1\" class=\"dataframe\">\n",
       "  <thead>\n",
       "    <tr style=\"text-align: right;\">\n",
       "      <th></th>\n",
       "      <th>Year</th>\n",
       "      <th>AnnualSalary</th>\n",
       "    </tr>\n",
       "  </thead>\n",
       "  <tbody>\n",
       "    <tr>\n",
       "      <th>10083</th>\n",
       "      <td>2014</td>\n",
       "      <td>130000.0</td>\n",
       "    </tr>\n",
       "    <tr>\n",
       "      <th>16419</th>\n",
       "      <td>2014</td>\n",
       "      <td>127500.0</td>\n",
       "    </tr>\n",
       "    <tr>\n",
       "      <th>1974</th>\n",
       "      <td>2014</td>\n",
       "      <td>120100.0</td>\n",
       "    </tr>\n",
       "    <tr>\n",
       "      <th>15851</th>\n",
       "      <td>2014</td>\n",
       "      <td>120000.0</td>\n",
       "    </tr>\n",
       "    <tr>\n",
       "      <th>8005</th>\n",
       "      <td>2014</td>\n",
       "      <td>120000.0</td>\n",
       "    </tr>\n",
       "    <tr>\n",
       "      <th>9772</th>\n",
       "      <td>2014</td>\n",
       "      <td>115000.0</td>\n",
       "    </tr>\n",
       "    <tr>\n",
       "      <th>13672</th>\n",
       "      <td>2014</td>\n",
       "      <td>107200.0</td>\n",
       "    </tr>\n",
       "    <tr>\n",
       "      <th>7328</th>\n",
       "      <td>2014</td>\n",
       "      <td>102700.0</td>\n",
       "    </tr>\n",
       "    <tr>\n",
       "      <th>782</th>\n",
       "      <td>2014</td>\n",
       "      <td>102000.0</td>\n",
       "    </tr>\n",
       "    <tr>\n",
       "      <th>11133</th>\n",
       "      <td>2014</td>\n",
       "      <td>100000.0</td>\n",
       "    </tr>\n",
       "    <tr>\n",
       "      <th>6510</th>\n",
       "      <td>2014</td>\n",
       "      <td>100000.0</td>\n",
       "    </tr>\n",
       "    <tr>\n",
       "      <th>12274</th>\n",
       "      <td>2014</td>\n",
       "      <td>98000.0</td>\n",
       "    </tr>\n",
       "    <tr>\n",
       "      <th>7638</th>\n",
       "      <td>2014</td>\n",
       "      <td>95000.0</td>\n",
       "    </tr>\n",
       "    <tr>\n",
       "      <th>14397</th>\n",
       "      <td>2014</td>\n",
       "      <td>92000.0</td>\n",
       "    </tr>\n",
       "    <tr>\n",
       "      <th>15678</th>\n",
       "      <td>2014</td>\n",
       "      <td>91500.0</td>\n",
       "    </tr>\n",
       "    <tr>\n",
       "      <th>8604</th>\n",
       "      <td>2014</td>\n",
       "      <td>90000.0</td>\n",
       "    </tr>\n",
       "    <tr>\n",
       "      <th>713</th>\n",
       "      <td>2014</td>\n",
       "      <td>90000.0</td>\n",
       "    </tr>\n",
       "    <tr>\n",
       "      <th>18133</th>\n",
       "      <td>2014</td>\n",
       "      <td>90000.0</td>\n",
       "    </tr>\n",
       "    <tr>\n",
       "      <th>9800</th>\n",
       "      <td>2014</td>\n",
       "      <td>86300.0</td>\n",
       "    </tr>\n",
       "    <tr>\n",
       "      <th>3799</th>\n",
       "      <td>2014</td>\n",
       "      <td>81600.0</td>\n",
       "    </tr>\n",
       "    <tr>\n",
       "      <th>15984</th>\n",
       "      <td>2014</td>\n",
       "      <td>81400.0</td>\n",
       "    </tr>\n",
       "    <tr>\n",
       "      <th>17757</th>\n",
       "      <td>2014</td>\n",
       "      <td>81120.0</td>\n",
       "    </tr>\n",
       "    <tr>\n",
       "      <th>17247</th>\n",
       "      <td>2014</td>\n",
       "      <td>80000.0</td>\n",
       "    </tr>\n",
       "    <tr>\n",
       "      <th>123</th>\n",
       "      <td>2014</td>\n",
       "      <td>80000.0</td>\n",
       "    </tr>\n",
       "    <tr>\n",
       "      <th>13660</th>\n",
       "      <td>2014</td>\n",
       "      <td>77000.0</td>\n",
       "    </tr>\n",
       "    <tr>\n",
       "      <th>3325</th>\n",
       "      <td>2014</td>\n",
       "      <td>75600.0</td>\n",
       "    </tr>\n",
       "    <tr>\n",
       "      <th>10166</th>\n",
       "      <td>2014</td>\n",
       "      <td>75000.0</td>\n",
       "    </tr>\n",
       "    <tr>\n",
       "      <th>3135</th>\n",
       "      <td>2014</td>\n",
       "      <td>74000.0</td>\n",
       "    </tr>\n",
       "    <tr>\n",
       "      <th>3213</th>\n",
       "      <td>2014</td>\n",
       "      <td>73600.0</td>\n",
       "    </tr>\n",
       "    <tr>\n",
       "      <th>5091</th>\n",
       "      <td>2014</td>\n",
       "      <td>72000.0</td>\n",
       "    </tr>\n",
       "    <tr>\n",
       "      <th>11619</th>\n",
       "      <td>2014</td>\n",
       "      <td>70720.0</td>\n",
       "    </tr>\n",
       "    <tr>\n",
       "      <th>15083</th>\n",
       "      <td>2014</td>\n",
       "      <td>70000.0</td>\n",
       "    </tr>\n",
       "    <tr>\n",
       "      <th>9524</th>\n",
       "      <td>2014</td>\n",
       "      <td>70000.0</td>\n",
       "    </tr>\n",
       "    <tr>\n",
       "      <th>4125</th>\n",
       "      <td>2014</td>\n",
       "      <td>69900.0</td>\n",
       "    </tr>\n",
       "    <tr>\n",
       "      <th>12285</th>\n",
       "      <td>2014</td>\n",
       "      <td>69900.0</td>\n",
       "    </tr>\n",
       "    <tr>\n",
       "      <th>15485</th>\n",
       "      <td>2014</td>\n",
       "      <td>69000.0</td>\n",
       "    </tr>\n",
       "    <tr>\n",
       "      <th>10286</th>\n",
       "      <td>2014</td>\n",
       "      <td>68000.0</td>\n",
       "    </tr>\n",
       "    <tr>\n",
       "      <th>2826</th>\n",
       "      <td>2014</td>\n",
       "      <td>67565.0</td>\n",
       "    </tr>\n",
       "    <tr>\n",
       "      <th>1252</th>\n",
       "      <td>2014</td>\n",
       "      <td>66560.0</td>\n",
       "    </tr>\n",
       "    <tr>\n",
       "      <th>13213</th>\n",
       "      <td>2014</td>\n",
       "      <td>66100.0</td>\n",
       "    </tr>\n",
       "    <tr>\n",
       "      <th>4787</th>\n",
       "      <td>2014</td>\n",
       "      <td>66100.0</td>\n",
       "    </tr>\n",
       "    <tr>\n",
       "      <th>5502</th>\n",
       "      <td>2014</td>\n",
       "      <td>66100.0</td>\n",
       "    </tr>\n",
       "    <tr>\n",
       "      <th>8365</th>\n",
       "      <td>2014</td>\n",
       "      <td>66100.0</td>\n",
       "    </tr>\n",
       "    <tr>\n",
       "      <th>1216</th>\n",
       "      <td>2014</td>\n",
       "      <td>63100.0</td>\n",
       "    </tr>\n",
       "    <tr>\n",
       "      <th>13057</th>\n",
       "      <td>2014</td>\n",
       "      <td>62899.0</td>\n",
       "    </tr>\n",
       "    <tr>\n",
       "      <th>3408</th>\n",
       "      <td>2014</td>\n",
       "      <td>62400.0</td>\n",
       "    </tr>\n",
       "    <tr>\n",
       "      <th>15837</th>\n",
       "      <td>2014</td>\n",
       "      <td>62200.0</td>\n",
       "    </tr>\n",
       "    <tr>\n",
       "      <th>13317</th>\n",
       "      <td>2014</td>\n",
       "      <td>61838.0</td>\n",
       "    </tr>\n",
       "    <tr>\n",
       "      <th>11969</th>\n",
       "      <td>2014</td>\n",
       "      <td>60800.0</td>\n",
       "    </tr>\n",
       "    <tr>\n",
       "      <th>9766</th>\n",
       "      <td>2014</td>\n",
       "      <td>60300.0</td>\n",
       "    </tr>\n",
       "  </tbody>\n",
       "</table>\n",
       "</div>"
      ],
      "text/plain": [
       "       Year  AnnualSalary\n",
       "10083  2014      130000.0\n",
       "16419  2014      127500.0\n",
       "1974   2014      120100.0\n",
       "15851  2014      120000.0\n",
       "8005   2014      120000.0\n",
       "9772   2014      115000.0\n",
       "13672  2014      107200.0\n",
       "7328   2014      102700.0\n",
       "782    2014      102000.0\n",
       "11133  2014      100000.0\n",
       "6510   2014      100000.0\n",
       "12274  2014       98000.0\n",
       "7638   2014       95000.0\n",
       "14397  2014       92000.0\n",
       "15678  2014       91500.0\n",
       "8604   2014       90000.0\n",
       "713    2014       90000.0\n",
       "18133  2014       90000.0\n",
       "9800   2014       86300.0\n",
       "3799   2014       81600.0\n",
       "15984  2014       81400.0\n",
       "17757  2014       81120.0\n",
       "17247  2014       80000.0\n",
       "123    2014       80000.0\n",
       "13660  2014       77000.0\n",
       "3325   2014       75600.0\n",
       "10166  2014       75000.0\n",
       "3135   2014       74000.0\n",
       "3213   2014       73600.0\n",
       "5091   2014       72000.0\n",
       "11619  2014       70720.0\n",
       "15083  2014       70000.0\n",
       "9524   2014       70000.0\n",
       "4125   2014       69900.0\n",
       "12285  2014       69900.0\n",
       "15485  2014       69000.0\n",
       "10286  2014       68000.0\n",
       "2826   2014       67565.0\n",
       "1252   2014       66560.0\n",
       "13213  2014       66100.0\n",
       "4787   2014       66100.0\n",
       "5502   2014       66100.0\n",
       "8365   2014       66100.0\n",
       "1216   2014       63100.0\n",
       "13057  2014       62899.0\n",
       "3408   2014       62400.0\n",
       "15837  2014       62200.0\n",
       "13317  2014       61838.0\n",
       "11969  2014       60800.0\n",
       "9766   2014       60300.0"
      ]
     },
     "execution_count": 49,
     "metadata": {},
     "output_type": "execute_result"
    }
   ],
   "source": [
    "salary[salary[\"Year\"]>2013][[\"Year\",\"AnnualSalary\"]].sort_values(\"AnnualSalary\",ascending=False).head(50)"
   ]
  },
  {
   "cell_type": "code",
   "execution_count": 50,
   "id": "a8100db6",
   "metadata": {},
   "outputs": [
    {
     "name": "stderr",
     "output_type": "stream",
     "text": [
      "C:\\Users\\Dipesh Goyal\\anaconda3\\lib\\site-packages\\seaborn\\_decorators.py:36: FutureWarning: Pass the following variables as keyword args: x, y. From version 0.12, the only valid positional argument will be `data`, and passing other arguments without an explicit keyword will result in an error or misinterpretation.\n",
      "  warnings.warn(\n"
     ]
    },
    {
     "data": {
      "image/png": "[encoded data removed]",
      "text/plain": [
       "<Figure size 720x360 with 1 Axes>"
      ]
     },
     "metadata": {
      "needs_background": "light"
     },
     "output_type": "display_data"
    }
   ],
   "source": [
    "plt.figure(figsize=(10,5))\n",
    "sns.lineplot(salary.Year,salary.AnnualSalary)\n",
    "plt.ylabel(\"Average Annual Salary\")\n",
    "plt.title(\"Plot B/W Annual Salary and Year\")\n",
    "plt.show()"
   ]
  },
  {
   "cell_type": "markdown",
   "id": "c5825cf9",
   "metadata": {},
   "source": [
    "> with the help of this plot we can say average salary is conttinously decreasing after year 2000"
   ]
  },
  {
   "cell_type": "code",
   "execution_count": 51,
   "id": "4fe499c0",
   "metadata": {},
   "outputs": [
    {
     "data": {
      "text/html": [
       "<div>\n",
       "<style scoped>\n",
       "    .dataframe tbody tr th:only-of-type {\n",
       "        vertical-align: middle;\n",
       "    }\n",
       "\n",
       "    .dataframe tbody tr th {\n",
       "        vertical-align: top;\n",
       "    }\n",
       "\n",
       "    .dataframe thead th {\n",
       "        text-align: right;\n",
       "    }\n",
       "</style>\n",
       "<table border=\"1\" class=\"dataframe\">\n",
       "  <thead>\n",
       "    <tr style=\"text-align: right;\">\n",
       "      <th></th>\n",
       "      <th>AnnualSalary</th>\n",
       "    </tr>\n",
       "    <tr>\n",
       "      <th>Year</th>\n",
       "      <th></th>\n",
       "    </tr>\n",
       "  </thead>\n",
       "  <tbody>\n",
       "    <tr>\n",
       "      <th>2013</th>\n",
       "      <td>137904.0</td>\n",
       "    </tr>\n",
       "    <tr>\n",
       "      <th>2008</th>\n",
       "      <td>137700.0</td>\n",
       "    </tr>\n",
       "    <tr>\n",
       "      <th>2007</th>\n",
       "      <td>137280.0</td>\n",
       "    </tr>\n",
       "    <tr>\n",
       "      <th>1991</th>\n",
       "      <td>135000.0</td>\n",
       "    </tr>\n",
       "    <tr>\n",
       "      <th>1993</th>\n",
       "      <td>135000.0</td>\n",
       "    </tr>\n",
       "    <tr>\n",
       "      <th>2012</th>\n",
       "      <td>135000.0</td>\n",
       "    </tr>\n",
       "    <tr>\n",
       "      <th>2005</th>\n",
       "      <td>135000.0</td>\n",
       "    </tr>\n",
       "    <tr>\n",
       "      <th>2003</th>\n",
       "      <td>135000.0</td>\n",
       "    </tr>\n",
       "    <tr>\n",
       "      <th>1986</th>\n",
       "      <td>135000.0</td>\n",
       "    </tr>\n",
       "    <tr>\n",
       "      <th>1984</th>\n",
       "      <td>135000.0</td>\n",
       "    </tr>\n",
       "  </tbody>\n",
       "</table>\n",
       "</div>"
      ],
      "text/plain": [
       "      AnnualSalary\n",
       "Year              \n",
       "2013      137904.0\n",
       "2008      137700.0\n",
       "2007      137280.0\n",
       "1991      135000.0\n",
       "1993      135000.0\n",
       "2012      135000.0\n",
       "2005      135000.0\n",
       "2003      135000.0\n",
       "1986      135000.0\n",
       "1984      135000.0"
      ]
     },
     "execution_count": 51,
     "metadata": {},
     "output_type": "execute_result"
    }
   ],
   "source": [
    "pd.DataFrame(salary.groupby(\"Year\")[\"AnnualSalary\"].max().sort_values(ascending=False).head(10))"
   ]
  },
  {
   "cell_type": "code",
   "execution_count": 52,
   "id": "8ce58eb3",
   "metadata": {},
   "outputs": [
    {
     "data": {
      "image/png": "[encoded data removed]",
      "text/plain": [
       "<Figure size 864x288 with 1 Axes>"
      ]
     },
     "metadata": {
      "needs_background": "light"
     },
     "output_type": "display_data"
    }
   ],
   "source": [
    "plt.figure(figsize=(12,4))\n",
    "salary.groupby(\"Year\")[\"Agency\"].count().sort_values(ascending=False).plot.bar()\n",
    "plt.ylabel(\"Number of Employee\")\n",
    "plt.title(\"Employee Hire By Year\",pad=10)\n",
    "plt.show()"
   ]
  },
  {
   "cell_type": "markdown",
   "id": "8199e5dc",
   "metadata": {},
   "source": [
    "> With the Help of this curve we can say in 2014 most employee is hired"
   ]
  },
  {
   "cell_type": "code",
   "execution_count": 53,
   "id": "6e7b5944",
   "metadata": {},
   "outputs": [
    {
     "data": {
      "image/png": "[encoded data removed]",
      "text/plain": [
       "<Figure size 432x288 with 1 Axes>"
      ]
     },
     "metadata": {
      "needs_background": "light"
     },
     "output_type": "display_data"
    }
   ],
   "source": [
    "salary.groupby(salary[\"Month\"])[\"Month\"].count().plot.bar()\n",
    "plt.show()"
   ]
  },
  {
   "cell_type": "markdown",
   "id": "bcd013a8",
   "metadata": {},
   "source": [
    "> Most of the people is Hired in The month of June"
   ]
  },
  {
   "cell_type": "code",
   "execution_count": 54,
   "id": "44e3bfa8",
   "metadata": {},
   "outputs": [
    {
     "data": {
      "image/png": "[encoded data removed]",
      "text/plain": [
       "<Figure size 432x288 with 2 Axes>"
      ]
     },
     "metadata": {
      "needs_background": "light"
     },
     "output_type": "display_data"
    }
   ],
   "source": [
    "sns.heatmap(salary.corr(),annot=True)\n",
    "plt.show()"
   ]
  },
  {
   "cell_type": "markdown",
   "id": "0515e75d",
   "metadata": {},
   "source": [
    "### Fearture Engineering"
   ]
  },
  {
   "cell_type": "code",
   "execution_count": 55,
   "id": "24239346",
   "metadata": {},
   "outputs": [],
   "source": [
    "mean_job = salary.groupby(\"JobTitle\")[\"AnnualSalary\"].mean()"
   ]
  },
  {
   "cell_type": "code",
   "execution_count": 56,
   "id": "c4209f99",
   "metadata": {},
   "outputs": [
    {
     "data": {
      "text/plain": [
       "JobTitle\n",
       "911 LEAD OPERATOR              47886.000000\n",
       "911 OPERATOR                   42835.743590\n",
       "911 OPERATOR SUPERVISOR        54797.500000\n",
       "ACCOUNT EXECUTIVE              42960.000000\n",
       "ACCOUNTANT I                   46316.642857\n",
       "                                   ...     \n",
       "ZONING ADMINISTRATOR           82100.000000\n",
       "ZONING APPEALS ADVISOR BMZA    59274.000000\n",
       "ZONING ENFORCEMENT OFFICER     62000.000000\n",
       "ZONING EXAMINER I              43674.000000\n",
       "ZONING EXAMINER II             53568.000000\n",
       "Name: AnnualSalary, Length: 1069, dtype: float64"
      ]
     },
     "execution_count": 56,
     "metadata": {},
     "output_type": "execute_result"
    }
   ],
   "source": [
    "mean_job"
   ]
  },
  {
   "cell_type": "code",
   "execution_count": 57,
   "id": "c941aadd",
   "metadata": {},
   "outputs": [],
   "source": [
    "salary[\"JobTitle\"] = salary[\"JobTitle\"].map(mean_job)"
   ]
  },
  {
   "cell_type": "code",
   "execution_count": 58,
   "id": "f29ca2d7",
   "metadata": {},
   "outputs": [],
   "source": [
    "mean_AgencyID = salary.groupby(\"AgencyID\")[\"AnnualSalary\"].mean()\n",
    "salary[\"AgencyID\"] = salary[\"AgencyID\"].map(mean_AgencyID)\n",
    "mean_Agency = salary.groupby(\"Agency\")[\"AnnualSalary\"].mean()\n",
    "salary[\"Agency\"] = salary[\"Agency\"].map(mean_Agency)"
   ]
  },
  {
   "cell_type": "code",
   "execution_count": 59,
   "id": "bfaa2333",
   "metadata": {},
   "outputs": [
    {
     "data": {
      "text/html": [
       "<div>\n",
       "<style scoped>\n",
       "    .dataframe tbody tr th:only-of-type {\n",
       "        vertical-align: middle;\n",
       "    }\n",
       "\n",
       "    .dataframe tbody tr th {\n",
       "        vertical-align: top;\n",
       "    }\n",
       "\n",
       "    .dataframe thead th {\n",
       "        text-align: right;\n",
       "    }\n",
       "</style>\n",
       "<table border=\"1\" class=\"dataframe\">\n",
       "  <thead>\n",
       "    <tr style=\"text-align: right;\">\n",
       "      <th></th>\n",
       "      <th>JobTitle</th>\n",
       "      <th>AgencyID</th>\n",
       "      <th>Agency</th>\n",
       "      <th>HireDate</th>\n",
       "      <th>AnnualSalary</th>\n",
       "      <th>Month</th>\n",
       "      <th>Day</th>\n",
       "      <th>Year</th>\n",
       "    </tr>\n",
       "  </thead>\n",
       "  <tbody>\n",
       "    <tr>\n",
       "      <th>0</th>\n",
       "      <td>11313.967200</td>\n",
       "      <td>11310.000000</td>\n",
       "      <td>11310.270645</td>\n",
       "      <td>06/10/2013</td>\n",
       "      <td>11310.0</td>\n",
       "      <td>6</td>\n",
       "      <td>10</td>\n",
       "      <td>2013</td>\n",
       "    </tr>\n",
       "    <tr>\n",
       "      <th>1</th>\n",
       "      <td>47443.500000</td>\n",
       "      <td>46667.000000</td>\n",
       "      <td>51495.424242</td>\n",
       "      <td>10/24/1979</td>\n",
       "      <td>53428.0</td>\n",
       "      <td>10</td>\n",
       "      <td>24</td>\n",
       "      <td>1979</td>\n",
       "    </tr>\n",
       "    <tr>\n",
       "      <th>2</th>\n",
       "      <td>69750.666667</td>\n",
       "      <td>65926.133333</td>\n",
       "      <td>64874.560224</td>\n",
       "      <td>09/25/2006</td>\n",
       "      <td>68300.0</td>\n",
       "      <td>9</td>\n",
       "      <td>25</td>\n",
       "      <td>2006</td>\n",
       "    </tr>\n",
       "    <tr>\n",
       "      <th>3</th>\n",
       "      <td>57940.000000</td>\n",
       "      <td>48071.851064</td>\n",
       "      <td>39980.900360</td>\n",
       "      <td>07/23/2009</td>\n",
       "      <td>62000.0</td>\n",
       "      <td>7</td>\n",
       "      <td>23</td>\n",
       "      <td>2009</td>\n",
       "    </tr>\n",
       "    <tr>\n",
       "      <th>4</th>\n",
       "      <td>44531.160494</td>\n",
       "      <td>44012.307229</td>\n",
       "      <td>61575.070137</td>\n",
       "      <td>07/24/2013</td>\n",
       "      <td>43999.0</td>\n",
       "      <td>7</td>\n",
       "      <td>24</td>\n",
       "      <td>2013</td>\n",
       "    </tr>\n",
       "    <tr>\n",
       "      <th>...</th>\n",
       "      <td>...</td>\n",
       "      <td>...</td>\n",
       "      <td>...</td>\n",
       "      <td>...</td>\n",
       "      <td>...</td>\n",
       "      <td>...</td>\n",
       "      <td>...</td>\n",
       "      <td>...</td>\n",
       "    </tr>\n",
       "    <tr>\n",
       "      <th>18976</th>\n",
       "      <td>11313.967200</td>\n",
       "      <td>11310.000000</td>\n",
       "      <td>11310.270645</td>\n",
       "      <td>05/21/2014</td>\n",
       "      <td>11310.0</td>\n",
       "      <td>5</td>\n",
       "      <td>21</td>\n",
       "      <td>2014</td>\n",
       "    </tr>\n",
       "    <tr>\n",
       "      <th>18977</th>\n",
       "      <td>11313.967200</td>\n",
       "      <td>11310.000000</td>\n",
       "      <td>11346.315789</td>\n",
       "      <td>05/21/2014</td>\n",
       "      <td>11310.0</td>\n",
       "      <td>5</td>\n",
       "      <td>21</td>\n",
       "      <td>2014</td>\n",
       "    </tr>\n",
       "    <tr>\n",
       "      <th>18978</th>\n",
       "      <td>44531.160494</td>\n",
       "      <td>44012.307229</td>\n",
       "      <td>61575.070137</td>\n",
       "      <td>12/17/2013</td>\n",
       "      <td>43999.0</td>\n",
       "      <td>12</td>\n",
       "      <td>17</td>\n",
       "      <td>2013</td>\n",
       "    </tr>\n",
       "    <tr>\n",
       "      <th>18979</th>\n",
       "      <td>60588.139335</td>\n",
       "      <td>60203.340426</td>\n",
       "      <td>61575.070137</td>\n",
       "      <td>01/23/2013</td>\n",
       "      <td>44104.0</td>\n",
       "      <td>1</td>\n",
       "      <td>23</td>\n",
       "      <td>2013</td>\n",
       "    </tr>\n",
       "    <tr>\n",
       "      <th>18980</th>\n",
       "      <td>53368.428571</td>\n",
       "      <td>42407.562500</td>\n",
       "      <td>42565.513078</td>\n",
       "      <td>10/15/1979</td>\n",
       "      <td>53568.0</td>\n",
       "      <td>10</td>\n",
       "      <td>15</td>\n",
       "      <td>1979</td>\n",
       "    </tr>\n",
       "  </tbody>\n",
       "</table>\n",
       "<p>18955 rows × 8 columns</p>\n",
       "</div>"
      ],
      "text/plain": [
       "           JobTitle      AgencyID        Agency    HireDate  AnnualSalary  \\\n",
       "0      11313.967200  11310.000000  11310.270645  06/10/2013       11310.0   \n",
       "1      47443.500000  46667.000000  51495.424242  10/24/1979       53428.0   \n",
       "2      69750.666667  65926.133333  64874.560224  09/25/2006       68300.0   \n",
       "3      57940.000000  48071.851064  39980.900360  07/23/2009       62000.0   \n",
       "4      44531.160494  44012.307229  61575.070137  07/24/2013       43999.0   \n",
       "...             ...           ...           ...         ...           ...   \n",
       "18976  11313.967200  11310.000000  11310.270645  05/21/2014       11310.0   \n",
       "18977  11313.967200  11310.000000  11346.315789  05/21/2014       11310.0   \n",
       "18978  44531.160494  44012.307229  61575.070137  12/17/2013       43999.0   \n",
       "18979  60588.139335  60203.340426  61575.070137  01/23/2013       44104.0   \n",
       "18980  53368.428571  42407.562500  42565.513078  10/15/1979       53568.0   \n",
       "\n",
       "       Month  Day  Year  \n",
       "0          6   10  2013  \n",
       "1         10   24  1979  \n",
       "2          9   25  2006  \n",
       "3          7   23  2009  \n",
       "4          7   24  2013  \n",
       "...      ...  ...   ...  \n",
       "18976      5   21  2014  \n",
       "18977      5   21  2014  \n",
       "18978     12   17  2013  \n",
       "18979      1   23  2013  \n",
       "18980     10   15  1979  \n",
       "\n",
       "[18955 rows x 8 columns]"
      ]
     },
     "execution_count": 59,
     "metadata": {},
     "output_type": "execute_result"
    }
   ],
   "source": [
    "salary"
   ]
  },
  {
   "cell_type": "code",
   "execution_count": 60,
   "id": "f201d10f",
   "metadata": {},
   "outputs": [],
   "source": [
    "salary.drop(\"HireDate\",axis=1,inplace=True)"
   ]
  },
  {
   "cell_type": "code",
   "execution_count": 61,
   "id": "695a573b",
   "metadata": {},
   "outputs": [
    {
     "data": {
      "text/html": [
       "<div>\n",
       "<style scoped>\n",
       "    .dataframe tbody tr th:only-of-type {\n",
       "        vertical-align: middle;\n",
       "    }\n",
       "\n",
       "    .dataframe tbody tr th {\n",
       "        vertical-align: top;\n",
       "    }\n",
       "\n",
       "    .dataframe thead th {\n",
       "        text-align: right;\n",
       "    }\n",
       "</style>\n",
       "<table border=\"1\" class=\"dataframe\">\n",
       "  <thead>\n",
       "    <tr style=\"text-align: right;\">\n",
       "      <th></th>\n",
       "      <th>JobTitle</th>\n",
       "      <th>AgencyID</th>\n",
       "      <th>Agency</th>\n",
       "      <th>AnnualSalary</th>\n",
       "      <th>Month</th>\n",
       "      <th>Day</th>\n",
       "      <th>Year</th>\n",
       "    </tr>\n",
       "  </thead>\n",
       "  <tbody>\n",
       "    <tr>\n",
       "      <th>0</th>\n",
       "      <td>11313.967200</td>\n",
       "      <td>11310.000000</td>\n",
       "      <td>11310.270645</td>\n",
       "      <td>11310.0</td>\n",
       "      <td>6</td>\n",
       "      <td>10</td>\n",
       "      <td>2013</td>\n",
       "    </tr>\n",
       "    <tr>\n",
       "      <th>1</th>\n",
       "      <td>47443.500000</td>\n",
       "      <td>46667.000000</td>\n",
       "      <td>51495.424242</td>\n",
       "      <td>53428.0</td>\n",
       "      <td>10</td>\n",
       "      <td>24</td>\n",
       "      <td>1979</td>\n",
       "    </tr>\n",
       "    <tr>\n",
       "      <th>2</th>\n",
       "      <td>69750.666667</td>\n",
       "      <td>65926.133333</td>\n",
       "      <td>64874.560224</td>\n",
       "      <td>68300.0</td>\n",
       "      <td>9</td>\n",
       "      <td>25</td>\n",
       "      <td>2006</td>\n",
       "    </tr>\n",
       "    <tr>\n",
       "      <th>3</th>\n",
       "      <td>57940.000000</td>\n",
       "      <td>48071.851064</td>\n",
       "      <td>39980.900360</td>\n",
       "      <td>62000.0</td>\n",
       "      <td>7</td>\n",
       "      <td>23</td>\n",
       "      <td>2009</td>\n",
       "    </tr>\n",
       "    <tr>\n",
       "      <th>4</th>\n",
       "      <td>44531.160494</td>\n",
       "      <td>44012.307229</td>\n",
       "      <td>61575.070137</td>\n",
       "      <td>43999.0</td>\n",
       "      <td>7</td>\n",
       "      <td>24</td>\n",
       "      <td>2013</td>\n",
       "    </tr>\n",
       "    <tr>\n",
       "      <th>...</th>\n",
       "      <td>...</td>\n",
       "      <td>...</td>\n",
       "      <td>...</td>\n",
       "      <td>...</td>\n",
       "      <td>...</td>\n",
       "      <td>...</td>\n",
       "      <td>...</td>\n",
       "    </tr>\n",
       "    <tr>\n",
       "      <th>18976</th>\n",
       "      <td>11313.967200</td>\n",
       "      <td>11310.000000</td>\n",
       "      <td>11310.270645</td>\n",
       "      <td>11310.0</td>\n",
       "      <td>5</td>\n",
       "      <td>21</td>\n",
       "      <td>2014</td>\n",
       "    </tr>\n",
       "    <tr>\n",
       "      <th>18977</th>\n",
       "      <td>11313.967200</td>\n",
       "      <td>11310.000000</td>\n",
       "      <td>11346.315789</td>\n",
       "      <td>11310.0</td>\n",
       "      <td>5</td>\n",
       "      <td>21</td>\n",
       "      <td>2014</td>\n",
       "    </tr>\n",
       "    <tr>\n",
       "      <th>18978</th>\n",
       "      <td>44531.160494</td>\n",
       "      <td>44012.307229</td>\n",
       "      <td>61575.070137</td>\n",
       "      <td>43999.0</td>\n",
       "      <td>12</td>\n",
       "      <td>17</td>\n",
       "      <td>2013</td>\n",
       "    </tr>\n",
       "    <tr>\n",
       "      <th>18979</th>\n",
       "      <td>60588.139335</td>\n",
       "      <td>60203.340426</td>\n",
       "      <td>61575.070137</td>\n",
       "      <td>44104.0</td>\n",
       "      <td>1</td>\n",
       "      <td>23</td>\n",
       "      <td>2013</td>\n",
       "    </tr>\n",
       "    <tr>\n",
       "      <th>18980</th>\n",
       "      <td>53368.428571</td>\n",
       "      <td>42407.562500</td>\n",
       "      <td>42565.513078</td>\n",
       "      <td>53568.0</td>\n",
       "      <td>10</td>\n",
       "      <td>15</td>\n",
       "      <td>1979</td>\n",
       "    </tr>\n",
       "  </tbody>\n",
       "</table>\n",
       "<p>18955 rows × 7 columns</p>\n",
       "</div>"
      ],
      "text/plain": [
       "           JobTitle      AgencyID        Agency  AnnualSalary  Month  Day  \\\n",
       "0      11313.967200  11310.000000  11310.270645       11310.0      6   10   \n",
       "1      47443.500000  46667.000000  51495.424242       53428.0     10   24   \n",
       "2      69750.666667  65926.133333  64874.560224       68300.0      9   25   \n",
       "3      57940.000000  48071.851064  39980.900360       62000.0      7   23   \n",
       "4      44531.160494  44012.307229  61575.070137       43999.0      7   24   \n",
       "...             ...           ...           ...           ...    ...  ...   \n",
       "18976  11313.967200  11310.000000  11310.270645       11310.0      5   21   \n",
       "18977  11313.967200  11310.000000  11346.315789       11310.0      5   21   \n",
       "18978  44531.160494  44012.307229  61575.070137       43999.0     12   17   \n",
       "18979  60588.139335  60203.340426  61575.070137       44104.0      1   23   \n",
       "18980  53368.428571  42407.562500  42565.513078       53568.0     10   15   \n",
       "\n",
       "       Year  \n",
       "0      2013  \n",
       "1      1979  \n",
       "2      2006  \n",
       "3      2009  \n",
       "4      2013  \n",
       "...     ...  \n",
       "18976  2014  \n",
       "18977  2014  \n",
       "18978  2013  \n",
       "18979  2013  \n",
       "18980  1979  \n",
       "\n",
       "[18955 rows x 7 columns]"
      ]
     },
     "execution_count": 61,
     "metadata": {},
     "output_type": "execute_result"
    }
   ],
   "source": [
    "salary"
   ]
  },
  {
   "cell_type": "code",
   "execution_count": 62,
   "id": "9d6cb046",
   "metadata": {},
   "outputs": [],
   "source": [
    "salary_cpy = salary.copy()"
   ]
  },
  {
   "cell_type": "code",
   "execution_count": 63,
   "id": "92b316ae",
   "metadata": {},
   "outputs": [],
   "source": [
    "from sklearn.preprocessing import StandardScaler\n",
    "data = StandardScaler()\n",
    "salary_cpy[salary_cpy.columns] = data.fit_transform(salary_cpy[salary_cpy.columns])"
   ]
  },
  {
   "cell_type": "code",
   "execution_count": 64,
   "id": "cc39ff3f",
   "metadata": {},
   "outputs": [
    {
     "data": {
      "text/html": [
       "<div>\n",
       "<style scoped>\n",
       "    .dataframe tbody tr th:only-of-type {\n",
       "        vertical-align: middle;\n",
       "    }\n",
       "\n",
       "    .dataframe tbody tr th {\n",
       "        vertical-align: top;\n",
       "    }\n",
       "\n",
       "    .dataframe thead th {\n",
       "        text-align: right;\n",
       "    }\n",
       "</style>\n",
       "<table border=\"1\" class=\"dataframe\">\n",
       "  <thead>\n",
       "    <tr style=\"text-align: right;\">\n",
       "      <th></th>\n",
       "      <th>JobTitle</th>\n",
       "      <th>AgencyID</th>\n",
       "      <th>Agency</th>\n",
       "      <th>AnnualSalary</th>\n",
       "      <th>Month</th>\n",
       "      <th>Day</th>\n",
       "      <th>Year</th>\n",
       "    </tr>\n",
       "  </thead>\n",
       "  <tbody>\n",
       "    <tr>\n",
       "      <th>0</th>\n",
       "      <td>-1.165848</td>\n",
       "      <td>-1.274022</td>\n",
       "      <td>-1.348898</td>\n",
       "      <td>-1.141755</td>\n",
       "      <td>-0.127520</td>\n",
       "      <td>-0.683100</td>\n",
       "      <td>0.857453</td>\n",
       "    </tr>\n",
       "    <tr>\n",
       "      <th>1</th>\n",
       "      <td>0.323801</td>\n",
       "      <td>0.318814</td>\n",
       "      <td>0.567862</td>\n",
       "      <td>0.558678</td>\n",
       "      <td>1.230615</td>\n",
       "      <td>0.984802</td>\n",
       "      <td>-2.418473</td>\n",
       "    </tr>\n",
       "    <tr>\n",
       "      <th>2</th>\n",
       "      <td>1.243543</td>\n",
       "      <td>1.186440</td>\n",
       "      <td>1.206022</td>\n",
       "      <td>1.159106</td>\n",
       "      <td>0.891081</td>\n",
       "      <td>1.103938</td>\n",
       "      <td>0.182998</td>\n",
       "    </tr>\n",
       "    <tr>\n",
       "      <th>3</th>\n",
       "      <td>0.756580</td>\n",
       "      <td>0.382103</td>\n",
       "      <td>0.018640</td>\n",
       "      <td>0.904756</td>\n",
       "      <td>0.212014</td>\n",
       "      <td>0.865666</td>\n",
       "      <td>0.472050</td>\n",
       "    </tr>\n",
       "    <tr>\n",
       "      <th>4</th>\n",
       "      <td>0.203723</td>\n",
       "      <td>0.199220</td>\n",
       "      <td>1.048643</td>\n",
       "      <td>0.178000</td>\n",
       "      <td>0.212014</td>\n",
       "      <td>0.984802</td>\n",
       "      <td>0.857453</td>\n",
       "    </tr>\n",
       "    <tr>\n",
       "      <th>...</th>\n",
       "      <td>...</td>\n",
       "      <td>...</td>\n",
       "      <td>...</td>\n",
       "      <td>...</td>\n",
       "      <td>...</td>\n",
       "      <td>...</td>\n",
       "      <td>...</td>\n",
       "    </tr>\n",
       "    <tr>\n",
       "      <th>18976</th>\n",
       "      <td>-1.165848</td>\n",
       "      <td>-1.274022</td>\n",
       "      <td>-1.348898</td>\n",
       "      <td>-1.141755</td>\n",
       "      <td>-0.467054</td>\n",
       "      <td>0.627394</td>\n",
       "      <td>0.953804</td>\n",
       "    </tr>\n",
       "    <tr>\n",
       "      <th>18977</th>\n",
       "      <td>-1.165848</td>\n",
       "      <td>-1.274022</td>\n",
       "      <td>-1.347179</td>\n",
       "      <td>-1.141755</td>\n",
       "      <td>-0.467054</td>\n",
       "      <td>0.627394</td>\n",
       "      <td>0.953804</td>\n",
       "    </tr>\n",
       "    <tr>\n",
       "      <th>18978</th>\n",
       "      <td>0.203723</td>\n",
       "      <td>0.199220</td>\n",
       "      <td>1.048643</td>\n",
       "      <td>0.178000</td>\n",
       "      <td>1.909682</td>\n",
       "      <td>0.150851</td>\n",
       "      <td>0.857453</td>\n",
       "    </tr>\n",
       "    <tr>\n",
       "      <th>18979</th>\n",
       "      <td>0.865765</td>\n",
       "      <td>0.928627</td>\n",
       "      <td>1.048643</td>\n",
       "      <td>0.182239</td>\n",
       "      <td>-1.825188</td>\n",
       "      <td>0.865666</td>\n",
       "      <td>0.857453</td>\n",
       "    </tr>\n",
       "    <tr>\n",
       "      <th>18980</th>\n",
       "      <td>0.568090</td>\n",
       "      <td>0.126926</td>\n",
       "      <td>0.141921</td>\n",
       "      <td>0.564330</td>\n",
       "      <td>1.230615</td>\n",
       "      <td>-0.087421</td>\n",
       "      <td>-2.418473</td>\n",
       "    </tr>\n",
       "  </tbody>\n",
       "</table>\n",
       "<p>18955 rows × 7 columns</p>\n",
       "</div>"
      ],
      "text/plain": [
       "       JobTitle  AgencyID    Agency  AnnualSalary     Month       Day  \\\n",
       "0     -1.165848 -1.274022 -1.348898     -1.141755 -0.127520 -0.683100   \n",
       "1      0.323801  0.318814  0.567862      0.558678  1.230615  0.984802   \n",
       "2      1.243543  1.186440  1.206022      1.159106  0.891081  1.103938   \n",
       "3      0.756580  0.382103  0.018640      0.904756  0.212014  0.865666   \n",
       "4      0.203723  0.199220  1.048643      0.178000  0.212014  0.984802   \n",
       "...         ...       ...       ...           ...       ...       ...   \n",
       "18976 -1.165848 -1.274022 -1.348898     -1.141755 -0.467054  0.627394   \n",
       "18977 -1.165848 -1.274022 -1.347179     -1.141755 -0.467054  0.627394   \n",
       "18978  0.203723  0.199220  1.048643      0.178000  1.909682  0.150851   \n",
       "18979  0.865765  0.928627  1.048643      0.182239 -1.825188  0.865666   \n",
       "18980  0.568090  0.126926  0.141921      0.564330  1.230615 -0.087421   \n",
       "\n",
       "           Year  \n",
       "0      0.857453  \n",
       "1     -2.418473  \n",
       "2      0.182998  \n",
       "3      0.472050  \n",
       "4      0.857453  \n",
       "...         ...  \n",
       "18976  0.953804  \n",
       "18977  0.953804  \n",
       "18978  0.857453  \n",
       "18979  0.857453  \n",
       "18980 -2.418473  \n",
       "\n",
       "[18955 rows x 7 columns]"
      ]
     },
     "execution_count": 64,
     "metadata": {},
     "output_type": "execute_result"
    }
   ],
   "source": [
    "salary_cpy"
   ]
  },
  {
   "cell_type": "code",
   "execution_count": 65,
   "id": "110686c0",
   "metadata": {},
   "outputs": [],
   "source": [
    "X = salary_cpy.drop(\"AnnualSalary\",axis=1)"
   ]
  },
  {
   "cell_type": "code",
   "execution_count": 66,
   "id": "28faf5dd",
   "metadata": {},
   "outputs": [],
   "source": [
    "Y = salary_cpy[\"AnnualSalary\"]"
   ]
  },
  {
   "cell_type": "code",
   "execution_count": 67,
   "id": "c433aa21",
   "metadata": {},
   "outputs": [],
   "source": [
    "from sklearn.model_selection import train_test_split\n",
    "X_train,X_test,Y_train,Y_test = train_test_split(X,Y,train_size=0.75,random_state=121)"
   ]
  },
  {
   "cell_type": "code",
   "execution_count": 68,
   "id": "3a457a02",
   "metadata": {},
   "outputs": [
    {
     "data": {
      "text/html": [
       "<div>\n",
       "<style scoped>\n",
       "    .dataframe tbody tr th:only-of-type {\n",
       "        vertical-align: middle;\n",
       "    }\n",
       "\n",
       "    .dataframe tbody tr th {\n",
       "        vertical-align: top;\n",
       "    }\n",
       "\n",
       "    .dataframe thead th {\n",
       "        text-align: right;\n",
       "    }\n",
       "</style>\n",
       "<table border=\"1\" class=\"dataframe\">\n",
       "  <thead>\n",
       "    <tr style=\"text-align: right;\">\n",
       "      <th></th>\n",
       "      <th>JobTitle</th>\n",
       "      <th>AgencyID</th>\n",
       "      <th>Agency</th>\n",
       "      <th>Month</th>\n",
       "      <th>Day</th>\n",
       "      <th>Year</th>\n",
       "    </tr>\n",
       "  </thead>\n",
       "  <tbody>\n",
       "    <tr>\n",
       "      <th>12682</th>\n",
       "      <td>1.105545</td>\n",
       "      <td>1.006023</td>\n",
       "      <td>0.141921</td>\n",
       "      <td>0.891081</td>\n",
       "      <td>-0.563964</td>\n",
       "      <td>-0.876861</td>\n",
       "    </tr>\n",
       "    <tr>\n",
       "      <th>8300</th>\n",
       "      <td>1.760678</td>\n",
       "      <td>1.390084</td>\n",
       "      <td>1.492465</td>\n",
       "      <td>-0.127520</td>\n",
       "      <td>1.103938</td>\n",
       "      <td>-1.358615</td>\n",
       "    </tr>\n",
       "    <tr>\n",
       "      <th>8360</th>\n",
       "      <td>0.480904</td>\n",
       "      <td>0.523049</td>\n",
       "      <td>0.809117</td>\n",
       "      <td>-1.825188</td>\n",
       "      <td>-0.802236</td>\n",
       "      <td>0.182998</td>\n",
       "    </tr>\n",
       "    <tr>\n",
       "      <th>10699</th>\n",
       "      <td>-0.742966</td>\n",
       "      <td>-0.885198</td>\n",
       "      <td>-0.875434</td>\n",
       "      <td>-0.127520</td>\n",
       "      <td>0.627394</td>\n",
       "      <td>0.375699</td>\n",
       "    </tr>\n",
       "    <tr>\n",
       "      <th>11042</th>\n",
       "      <td>-1.165848</td>\n",
       "      <td>-1.274022</td>\n",
       "      <td>-1.348898</td>\n",
       "      <td>-0.467054</td>\n",
       "      <td>0.627394</td>\n",
       "      <td>0.953804</td>\n",
       "    </tr>\n",
       "  </tbody>\n",
       "</table>\n",
       "</div>"
      ],
      "text/plain": [
       "       JobTitle  AgencyID    Agency     Month       Day      Year\n",
       "12682  1.105545  1.006023  0.141921  0.891081 -0.563964 -0.876861\n",
       "8300   1.760678  1.390084  1.492465 -0.127520  1.103938 -1.358615\n",
       "8360   0.480904  0.523049  0.809117 -1.825188 -0.802236  0.182998\n",
       "10699 -0.742966 -0.885198 -0.875434 -0.127520  0.627394  0.375699\n",
       "11042 -1.165848 -1.274022 -1.348898 -0.467054  0.627394  0.953804"
      ]
     },
     "execution_count": 68,
     "metadata": {},
     "output_type": "execute_result"
    }
   ],
   "source": [
    "X_train.head()"
   ]
  },
  {
   "cell_type": "code",
   "execution_count": 69,
   "id": "32259f94",
   "metadata": {},
   "outputs": [
    {
     "data": {
      "text/html": [
       "<div>\n",
       "<style scoped>\n",
       "    .dataframe tbody tr th:only-of-type {\n",
       "        vertical-align: middle;\n",
       "    }\n",
       "\n",
       "    .dataframe tbody tr th {\n",
       "        vertical-align: top;\n",
       "    }\n",
       "\n",
       "    .dataframe thead th {\n",
       "        text-align: right;\n",
       "    }\n",
       "</style>\n",
       "<table border=\"1\" class=\"dataframe\">\n",
       "  <thead>\n",
       "    <tr style=\"text-align: right;\">\n",
       "      <th></th>\n",
       "      <th>JobTitle</th>\n",
       "      <th>AgencyID</th>\n",
       "      <th>Agency</th>\n",
       "      <th>Month</th>\n",
       "      <th>Day</th>\n",
       "      <th>Year</th>\n",
       "    </tr>\n",
       "  </thead>\n",
       "  <tbody>\n",
       "    <tr>\n",
       "      <th>2860</th>\n",
       "      <td>-1.165848</td>\n",
       "      <td>-1.274022</td>\n",
       "      <td>-1.347179</td>\n",
       "      <td>-0.127520</td>\n",
       "      <td>1.461345</td>\n",
       "      <td>0.857453</td>\n",
       "    </tr>\n",
       "    <tr>\n",
       "      <th>3009</th>\n",
       "      <td>-0.281711</td>\n",
       "      <td>-0.339968</td>\n",
       "      <td>-0.224892</td>\n",
       "      <td>0.551547</td>\n",
       "      <td>1.461345</td>\n",
       "      <td>-0.395107</td>\n",
       "    </tr>\n",
       "    <tr>\n",
       "      <th>16122</th>\n",
       "      <td>0.074698</td>\n",
       "      <td>0.131777</td>\n",
       "      <td>0.397055</td>\n",
       "      <td>0.891081</td>\n",
       "      <td>1.699617</td>\n",
       "      <td>-1.744018</td>\n",
       "    </tr>\n",
       "    <tr>\n",
       "      <th>13701</th>\n",
       "      <td>0.667588</td>\n",
       "      <td>0.259860</td>\n",
       "      <td>0.567862</td>\n",
       "      <td>1.570148</td>\n",
       "      <td>0.865666</td>\n",
       "      <td>-2.707525</td>\n",
       "    </tr>\n",
       "    <tr>\n",
       "      <th>7258</th>\n",
       "      <td>1.045308</td>\n",
       "      <td>1.150788</td>\n",
       "      <td>1.048643</td>\n",
       "      <td>-1.146121</td>\n",
       "      <td>1.342209</td>\n",
       "      <td>0.375699</td>\n",
       "    </tr>\n",
       "  </tbody>\n",
       "</table>\n",
       "</div>"
      ],
      "text/plain": [
       "       JobTitle  AgencyID    Agency     Month       Day      Year\n",
       "2860  -1.165848 -1.274022 -1.347179 -0.127520  1.461345  0.857453\n",
       "3009  -0.281711 -0.339968 -0.224892  0.551547  1.461345 -0.395107\n",
       "16122  0.074698  0.131777  0.397055  0.891081  1.699617 -1.744018\n",
       "13701  0.667588  0.259860  0.567862  1.570148  0.865666 -2.707525\n",
       "7258   1.045308  1.150788  1.048643 -1.146121  1.342209  0.375699"
      ]
     },
     "execution_count": 69,
     "metadata": {},
     "output_type": "execute_result"
    }
   ],
   "source": [
    "X_test.head()"
   ]
  },
  {
   "cell_type": "code",
   "execution_count": 70,
   "id": "61629f49",
   "metadata": {},
   "outputs": [
    {
     "data": {
      "text/plain": [
       "12682    0.981101\n",
       "8300     1.736118\n",
       "8360     0.573696\n",
       "10699   -0.758615\n",
       "11042   -1.141755\n",
       "Name: AnnualSalary, dtype: float64"
      ]
     },
     "execution_count": 70,
     "metadata": {},
     "output_type": "execute_result"
    }
   ],
   "source": [
    "Y_train.head()"
   ]
  },
  {
   "cell_type": "code",
   "execution_count": 71,
   "id": "19f719e1",
   "metadata": {},
   "outputs": [
    {
     "data": {
      "text/plain": [
       "2860    -1.141755\n",
       "3009    -0.295980\n",
       "16122    0.105894\n",
       "13701    1.090472\n",
       "7258     0.882591\n",
       "Name: AnnualSalary, dtype: float64"
      ]
     },
     "execution_count": 71,
     "metadata": {},
     "output_type": "execute_result"
    }
   ],
   "source": [
    "Y_test.head()"
   ]
  },
  {
   "cell_type": "markdown",
   "id": "7671a1f2",
   "metadata": {},
   "source": [
    "## Feature Scaling"
   ]
  },
  {
   "cell_type": "raw",
   "id": "d6f069a0",
   "metadata": {},
   "source": [
    "## Standardization and normalization\n",
    "## standardazation = it ensure that a particular feature is scaler in order to have 0 mean and 1 std. = (x-mean(column))/std(column)\n",
    "## normalization = b/w 0 and 1 = (x-xmin)/(xmax - xmin)"
   ]
  },
  {
   "cell_type": "code",
   "execution_count": 72,
   "id": "474529ba",
   "metadata": {
    "scrolled": true
   },
   "outputs": [
    {
     "data": {
      "text/html": [
       "<div>\n",
       "<style scoped>\n",
       "    .dataframe tbody tr th:only-of-type {\n",
       "        vertical-align: middle;\n",
       "    }\n",
       "\n",
       "    .dataframe tbody tr th {\n",
       "        vertical-align: top;\n",
       "    }\n",
       "\n",
       "    .dataframe thead th {\n",
       "        text-align: right;\n",
       "    }\n",
       "</style>\n",
       "<table border=\"1\" class=\"dataframe\">\n",
       "  <thead>\n",
       "    <tr style=\"text-align: right;\">\n",
       "      <th></th>\n",
       "      <th>JobTitle</th>\n",
       "      <th>AgencyID</th>\n",
       "      <th>Agency</th>\n",
       "      <th>Month</th>\n",
       "      <th>Day</th>\n",
       "      <th>Year</th>\n",
       "    </tr>\n",
       "  </thead>\n",
       "  <tbody>\n",
       "    <tr>\n",
       "      <th>12682</th>\n",
       "      <td>1.105545</td>\n",
       "      <td>1.006023</td>\n",
       "      <td>0.141921</td>\n",
       "      <td>0.891081</td>\n",
       "      <td>-0.563964</td>\n",
       "      <td>-0.876861</td>\n",
       "    </tr>\n",
       "    <tr>\n",
       "      <th>8300</th>\n",
       "      <td>1.760678</td>\n",
       "      <td>1.390084</td>\n",
       "      <td>1.492465</td>\n",
       "      <td>-0.127520</td>\n",
       "      <td>1.103938</td>\n",
       "      <td>-1.358615</td>\n",
       "    </tr>\n",
       "    <tr>\n",
       "      <th>8360</th>\n",
       "      <td>0.480904</td>\n",
       "      <td>0.523049</td>\n",
       "      <td>0.809117</td>\n",
       "      <td>-1.825188</td>\n",
       "      <td>-0.802236</td>\n",
       "      <td>0.182998</td>\n",
       "    </tr>\n",
       "    <tr>\n",
       "      <th>10699</th>\n",
       "      <td>-0.742966</td>\n",
       "      <td>-0.885198</td>\n",
       "      <td>-0.875434</td>\n",
       "      <td>-0.127520</td>\n",
       "      <td>0.627394</td>\n",
       "      <td>0.375699</td>\n",
       "    </tr>\n",
       "    <tr>\n",
       "      <th>11042</th>\n",
       "      <td>-1.165848</td>\n",
       "      <td>-1.274022</td>\n",
       "      <td>-1.348898</td>\n",
       "      <td>-0.467054</td>\n",
       "      <td>0.627394</td>\n",
       "      <td>0.953804</td>\n",
       "    </tr>\n",
       "  </tbody>\n",
       "</table>\n",
       "</div>"
      ],
      "text/plain": [
       "       JobTitle  AgencyID    Agency     Month       Day      Year\n",
       "12682  1.105545  1.006023  0.141921  0.891081 -0.563964 -0.876861\n",
       "8300   1.760678  1.390084  1.492465 -0.127520  1.103938 -1.358615\n",
       "8360   0.480904  0.523049  0.809117 -1.825188 -0.802236  0.182998\n",
       "10699 -0.742966 -0.885198 -0.875434 -0.127520  0.627394  0.375699\n",
       "11042 -1.165848 -1.274022 -1.348898 -0.467054  0.627394  0.953804"
      ]
     },
     "execution_count": 72,
     "metadata": {},
     "output_type": "execute_result"
    }
   ],
   "source": [
    "X_train.head()"
   ]
  },
  {
   "cell_type": "code",
   "execution_count": 73,
   "id": "b6887830",
   "metadata": {},
   "outputs": [
    {
     "data": {
      "text/html": [
       "<div>\n",
       "<style scoped>\n",
       "    .dataframe tbody tr th:only-of-type {\n",
       "        vertical-align: middle;\n",
       "    }\n",
       "\n",
       "    .dataframe tbody tr th {\n",
       "        vertical-align: top;\n",
       "    }\n",
       "\n",
       "    .dataframe thead th {\n",
       "        text-align: right;\n",
       "    }\n",
       "</style>\n",
       "<table border=\"1\" class=\"dataframe\">\n",
       "  <thead>\n",
       "    <tr style=\"text-align: right;\">\n",
       "      <th></th>\n",
       "      <th>JobTitle</th>\n",
       "      <th>AgencyID</th>\n",
       "      <th>Agency</th>\n",
       "      <th>Month</th>\n",
       "      <th>Day</th>\n",
       "      <th>Year</th>\n",
       "    </tr>\n",
       "  </thead>\n",
       "  <tbody>\n",
       "    <tr>\n",
       "      <th>count</th>\n",
       "      <td>14216.000000</td>\n",
       "      <td>14216.000000</td>\n",
       "      <td>14216.000000</td>\n",
       "      <td>14216.000000</td>\n",
       "      <td>14216.000000</td>\n",
       "      <td>14216.000000</td>\n",
       "    </tr>\n",
       "    <tr>\n",
       "      <th>mean</th>\n",
       "      <td>-0.002620</td>\n",
       "      <td>0.000260</td>\n",
       "      <td>-0.000145</td>\n",
       "      <td>-0.003276</td>\n",
       "      <td>-0.001547</td>\n",
       "      <td>0.006718</td>\n",
       "    </tr>\n",
       "    <tr>\n",
       "      <th>std</th>\n",
       "      <td>0.998892</td>\n",
       "      <td>1.001214</td>\n",
       "      <td>1.001975</td>\n",
       "      <td>0.998374</td>\n",
       "      <td>1.001515</td>\n",
       "      <td>0.995704</td>\n",
       "    </tr>\n",
       "    <tr>\n",
       "      <th>min</th>\n",
       "      <td>-1.632331</td>\n",
       "      <td>-1.693438</td>\n",
       "      <td>-1.400209</td>\n",
       "      <td>-1.825188</td>\n",
       "      <td>-1.755323</td>\n",
       "      <td>-5.019944</td>\n",
       "    </tr>\n",
       "    <tr>\n",
       "      <th>25%</th>\n",
       "      <td>-1.165848</td>\n",
       "      <td>-1.274022</td>\n",
       "      <td>-1.347179</td>\n",
       "      <td>-0.467054</td>\n",
       "      <td>-0.802236</td>\n",
       "      <td>-0.491458</td>\n",
       "    </tr>\n",
       "    <tr>\n",
       "      <th>50%</th>\n",
       "      <td>-0.146209</td>\n",
       "      <td>0.090342</td>\n",
       "      <td>0.141921</td>\n",
       "      <td>-0.127520</td>\n",
       "      <td>0.031715</td>\n",
       "      <td>0.279349</td>\n",
       "    </tr>\n",
       "    <tr>\n",
       "      <th>75%</th>\n",
       "      <td>0.865765</td>\n",
       "      <td>0.910939</td>\n",
       "      <td>1.048643</td>\n",
       "      <td>0.551547</td>\n",
       "      <td>0.746530</td>\n",
       "      <td>0.857453</td>\n",
       "    </tr>\n",
       "    <tr>\n",
       "      <th>max</th>\n",
       "      <td>3.884346</td>\n",
       "      <td>2.880046</td>\n",
       "      <td>1.953570</td>\n",
       "      <td>1.909682</td>\n",
       "      <td>1.818753</td>\n",
       "      <td>0.953804</td>\n",
       "    </tr>\n",
       "  </tbody>\n",
       "</table>\n",
       "</div>"
      ],
      "text/plain": [
       "           JobTitle      AgencyID        Agency         Month           Day  \\\n",
       "count  14216.000000  14216.000000  14216.000000  14216.000000  14216.000000   \n",
       "mean      -0.002620      0.000260     -0.000145     -0.003276     -0.001547   \n",
       "std        0.998892      1.001214      1.001975      0.998374      1.001515   \n",
       "min       -1.632331     -1.693438     -1.400209     -1.825188     -1.755323   \n",
       "25%       -1.165848     -1.274022     -1.347179     -0.467054     -0.802236   \n",
       "50%       -0.146209      0.090342      0.141921     -0.127520      0.031715   \n",
       "75%        0.865765      0.910939      1.048643      0.551547      0.746530   \n",
       "max        3.884346      2.880046      1.953570      1.909682      1.818753   \n",
       "\n",
       "               Year  \n",
       "count  14216.000000  \n",
       "mean       0.006718  \n",
       "std        0.995704  \n",
       "min       -5.019944  \n",
       "25%       -0.491458  \n",
       "50%        0.279349  \n",
       "75%        0.857453  \n",
       "max        0.953804  "
      ]
     },
     "execution_count": 73,
     "metadata": {},
     "output_type": "execute_result"
    }
   ],
   "source": [
    "X_train.describe()"
   ]
  },
  {
   "cell_type": "code",
   "execution_count": 74,
   "id": "b14dc1ee",
   "metadata": {},
   "outputs": [],
   "source": [
    "# model building\n",
    "from sklearn.linear_model import LinearRegression"
   ]
  },
  {
   "cell_type": "code",
   "execution_count": 75,
   "id": "590c12ad",
   "metadata": {},
   "outputs": [],
   "source": [
    "lr = LinearRegression()"
   ]
  },
  {
   "cell_type": "code",
   "execution_count": 76,
   "id": "c6a7675d",
   "metadata": {},
   "outputs": [
    {
     "data": {
      "text/plain": [
       "LinearRegression()"
      ]
     },
     "execution_count": 76,
     "metadata": {},
     "output_type": "execute_result"
    }
   ],
   "source": [
    "lr.fit(X_train,Y_train)"
   ]
  },
  {
   "cell_type": "code",
   "execution_count": 77,
   "id": "f9ab71fb",
   "metadata": {},
   "outputs": [],
   "source": [
    "Y_pred = lr.predict(X_test)"
   ]
  },
  {
   "cell_type": "code",
   "execution_count": 78,
   "id": "57daec45",
   "metadata": {},
   "outputs": [
    {
     "data": {
      "text/plain": [
       "array([-1.1686455 , -0.24763441,  0.19233418, ...,  0.01296043,\n",
       "       -0.31782513,  0.78121506])"
      ]
     },
     "execution_count": 78,
     "metadata": {},
     "output_type": "execute_result"
    }
   ],
   "source": [
    "Y_pred"
   ]
  },
  {
   "cell_type": "code",
   "execution_count": 79,
   "id": "4563f2b0",
   "metadata": {},
   "outputs": [
    {
     "data": {
      "text/plain": [
       "2860    -1.141755\n",
       "3009    -0.295980\n",
       "16122    0.105894\n",
       "13701    1.090472\n",
       "7258     0.882591\n",
       "           ...   \n",
       "18651    0.282324\n",
       "2918     0.920097\n",
       "9247    -0.096537\n",
       "8763    -0.440112\n",
       "825      0.800149\n",
       "Name: AnnualSalary, Length: 4739, dtype: float64"
      ]
     },
     "execution_count": 79,
     "metadata": {},
     "output_type": "execute_result"
    }
   ],
   "source": [
    "Y_test"
   ]
  },
  {
   "cell_type": "code",
   "execution_count": 80,
   "id": "2ac1d781",
   "metadata": {},
   "outputs": [
    {
     "data": {
      "text/plain": [
       "0.036828647886796635"
      ]
     },
     "execution_count": 80,
     "metadata": {},
     "output_type": "execute_result"
    }
   ],
   "source": [
    "from sklearn.metrics import mean_squared_error, r2_score\n",
    "mean_squared_error(Y_test,Y_pred)"
   ]
  },
  {
   "cell_type": "code",
   "execution_count": 81,
   "id": "b6b34f96",
   "metadata": {},
   "outputs": [
    {
     "data": {
      "text/plain": [
       "0.9635628719759249"
      ]
     },
     "execution_count": 81,
     "metadata": {},
     "output_type": "execute_result"
    }
   ],
   "source": [
    "r2_score(Y_test,Y_pred)"
   ]
  }
 ],
 "metadata": {
  "kernelspec": {
   "display_name": "Python 3 (ipykernel)",
   "language": "python",
   "name": "python3"
  },
  "language_info": {
   "codemirror_mode": {
    "name": "ipython",
    "version": 3
   },
   "file_extension": ".py",
   "mimetype": "text/x-python",
   "name": "python",
   "nbconvert_exporter": "python",
   "pygments_lexer": "ipython3",
   "version": "3.9.12"
  }
 },
 "nbformat": 4,
 "nbformat_minor": 5
}
